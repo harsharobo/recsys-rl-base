{
 "cells": [
  {
   "cell_type": "code",
   "execution_count": 1,
   "metadata": {},
   "outputs": [],
   "source": [
    "import pandas as pd\n",
    "import numpy as np\n",
    "import seaborn as sns\n",
    "import matplotlib.pyplot as plt"
   ]
  },
  {
   "cell_type": "code",
   "execution_count": 2,
   "metadata": {},
   "outputs": [],
   "source": [
    "BASE_PATH = 'D:/Learning/LJMU-masters/recommender_system/workspace/rest_procssed_data/'\n",
    "review_file = BASE_PATH+'filt_rest_review_data.tar.gz'\n",
    "restaurant_feat_file = BASE_PATH+'rest_context_feat.csv'"
   ]
  },
  {
   "cell_type": "markdown",
   "metadata": {},
   "source": [
    "## Read the restaurants data and review data to form matrices"
   ]
  },
  {
   "cell_type": "code",
   "execution_count": 4,
   "metadata": {},
   "outputs": [
    {
     "name": "stdout",
     "output_type": "stream",
     "text": [
      "['business_id' 'stars' 'date' 'user_id']\n",
      "(1324324, 4)\n"
     ]
    }
   ],
   "source": [
    "review_df = pd.read_csv(review_file,compression='gzip')\n",
    "print(review_df.columns.values)\n",
    "print(review_df.shape)"
   ]
  },
  {
   "cell_type": "code",
   "execution_count": 5,
   "metadata": {},
   "outputs": [
    {
     "data": {
      "text/html": [
       "<div>\n",
       "<style scoped>\n",
       "    .dataframe tbody tr th:only-of-type {\n",
       "        vertical-align: middle;\n",
       "    }\n",
       "\n",
       "    .dataframe tbody tr th {\n",
       "        vertical-align: top;\n",
       "    }\n",
       "\n",
       "    .dataframe thead th {\n",
       "        text-align: right;\n",
       "    }\n",
       "</style>\n",
       "<table border=\"1\" class=\"dataframe\">\n",
       "  <thead>\n",
       "    <tr style=\"text-align: right;\">\n",
       "      <th></th>\n",
       "      <th>business_id</th>\n",
       "      <th>stars</th>\n",
       "      <th>date</th>\n",
       "      <th>user_id</th>\n",
       "    </tr>\n",
       "  </thead>\n",
       "  <tbody>\n",
       "    <tr>\n",
       "      <th>0</th>\n",
       "      <td>3fw2X5bZYeW9xCz_zGhOHg</td>\n",
       "      <td>3.0</td>\n",
       "      <td>2016-05-07 01:21:02</td>\n",
       "      <td>jlu4CztcSxrKx56ba1a5AQ</td>\n",
       "    </tr>\n",
       "    <tr>\n",
       "      <th>1</th>\n",
       "      <td>NyLYY8q1-H3hfsTwuwLPCg</td>\n",
       "      <td>4.0</td>\n",
       "      <td>2015-01-03 22:47:34</td>\n",
       "      <td>86J5DwcFk4f4In1Vxe2TvA</td>\n",
       "    </tr>\n",
       "    <tr>\n",
       "      <th>2</th>\n",
       "      <td>y-Iw6dZflNix4BdwIyTNGA</td>\n",
       "      <td>3.0</td>\n",
       "      <td>2014-06-27 21:19:23</td>\n",
       "      <td>_N7Ndn29bpll_961oPeEfw</td>\n",
       "    </tr>\n",
       "    <tr>\n",
       "      <th>3</th>\n",
       "      <td>qx6WhZ42eDKmBchZDax4dQ</td>\n",
       "      <td>5.0</td>\n",
       "      <td>2017-03-27 01:14:37</td>\n",
       "      <td>DzZ7piLBF-WsJxqosfJgtA</td>\n",
       "    </tr>\n",
       "    <tr>\n",
       "      <th>4</th>\n",
       "      <td>9nTF596jDvBBia2EXXiOOg</td>\n",
       "      <td>1.0</td>\n",
       "      <td>2014-04-19 15:03:17</td>\n",
       "      <td>q3GeSW9dWN9r_ocqFkhrvg</td>\n",
       "    </tr>\n",
       "  </tbody>\n",
       "</table>\n",
       "</div>"
      ],
      "text/plain": [
       "              business_id  stars                date                 user_id\n",
       "0  3fw2X5bZYeW9xCz_zGhOHg    3.0 2016-05-07 01:21:02  jlu4CztcSxrKx56ba1a5AQ\n",
       "1  NyLYY8q1-H3hfsTwuwLPCg    4.0 2015-01-03 22:47:34  86J5DwcFk4f4In1Vxe2TvA\n",
       "2  y-Iw6dZflNix4BdwIyTNGA    3.0 2014-06-27 21:19:23  _N7Ndn29bpll_961oPeEfw\n",
       "3  qx6WhZ42eDKmBchZDax4dQ    5.0 2017-03-27 01:14:37  DzZ7piLBF-WsJxqosfJgtA\n",
       "4  9nTF596jDvBBia2EXXiOOg    1.0 2014-04-19 15:03:17  q3GeSW9dWN9r_ocqFkhrvg"
      ]
     },
     "execution_count": 5,
     "metadata": {},
     "output_type": "execute_result"
    }
   ],
   "source": [
    "review_df['date'] = pd.to_datetime(review_df['date'].str.strip(), errors='coerce', format='%Y-%m-%d %H:%M:%S')\n",
    "review_df.head()"
   ]
  },
  {
   "cell_type": "code",
   "execution_count": 6,
   "metadata": {},
   "outputs": [
    {
     "data": {
      "image/png": "[encoded data removed]",
      "text/plain": [
       "<matplotlib.figure.Figure at 0x252834b9390>"
      ]
     },
     "metadata": {},
     "output_type": "display_data"
    }
   ],
   "source": [
    "ax = sns.countplot(review_df['stars'])"
   ]
  },
  {
   "cell_type": "code",
   "execution_count": 7,
   "metadata": {},
   "outputs": [
    {
     "data": {
      "text/html": [
       "<div>\n",
       "<style scoped>\n",
       "    .dataframe tbody tr th:only-of-type {\n",
       "        vertical-align: middle;\n",
       "    }\n",
       "\n",
       "    .dataframe tbody tr th {\n",
       "        vertical-align: top;\n",
       "    }\n",
       "\n",
       "    .dataframe thead th {\n",
       "        text-align: right;\n",
       "    }\n",
       "</style>\n",
       "<table border=\"1\" class=\"dataframe\">\n",
       "  <thead>\n",
       "    <tr style=\"text-align: right;\">\n",
       "      <th></th>\n",
       "      <th>business_id</th>\n",
       "      <th>user_id</th>\n",
       "      <th>review_count</th>\n",
       "    </tr>\n",
       "  </thead>\n",
       "  <tbody>\n",
       "    <tr>\n",
       "      <th>408521</th>\n",
       "      <td>J3H6VSIgUTlACkb_HPFA8w</td>\n",
       "      <td>JlQ-9fc61X9lbzZN6ZjORQ</td>\n",
       "      <td>61</td>\n",
       "    </tr>\n",
       "    <tr>\n",
       "      <th>60797</th>\n",
       "      <td>1mb44krcyBOylDiyx_3ORg</td>\n",
       "      <td>xq1zRJz5VHgEKiCaI51_Gw</td>\n",
       "      <td>19</td>\n",
       "    </tr>\n",
       "    <tr>\n",
       "      <th>1078384</th>\n",
       "      <td>pxRy9F0HwN7zJ7J89AwUpQ</td>\n",
       "      <td>JlQ-9fc61X9lbzZN6ZjORQ</td>\n",
       "      <td>18</td>\n",
       "    </tr>\n",
       "    <tr>\n",
       "      <th>937476</th>\n",
       "      <td>i9D9xPBV0gR1Ja9kbY4NCw</td>\n",
       "      <td>U4INQZOPSUaj8hMjLlZ3KA</td>\n",
       "      <td>16</td>\n",
       "    </tr>\n",
       "    <tr>\n",
       "      <th>91735</th>\n",
       "      <td>33Tr0eRki1Yamzleu4GMdw</td>\n",
       "      <td>U4INQZOPSUaj8hMjLlZ3KA</td>\n",
       "      <td>15</td>\n",
       "    </tr>\n",
       "  </tbody>\n",
       "</table>\n",
       "</div>"
      ],
      "text/plain": [
       "                    business_id                 user_id  review_count\n",
       "408521   J3H6VSIgUTlACkb_HPFA8w  JlQ-9fc61X9lbzZN6ZjORQ            61\n",
       "60797    1mb44krcyBOylDiyx_3ORg  xq1zRJz5VHgEKiCaI51_Gw            19\n",
       "1078384  pxRy9F0HwN7zJ7J89AwUpQ  JlQ-9fc61X9lbzZN6ZjORQ            18\n",
       "937476   i9D9xPBV0gR1Ja9kbY4NCw  U4INQZOPSUaj8hMjLlZ3KA            16\n",
       "91735    33Tr0eRki1Yamzleu4GMdw  U4INQZOPSUaj8hMjLlZ3KA            15"
      ]
     },
     "execution_count": 7,
     "metadata": {},
     "output_type": "execute_result"
    }
   ],
   "source": [
    "grped_review_df = review_df.groupby(['business_id','user_id'])['date'].count().reset_index()\n",
    "grped_review_df.columns = ['business_id','user_id','review_count']\n",
    "grped_review_df.sort_values('review_count',ascending=False).head()"
   ]
  },
  {
   "cell_type": "code",
   "execution_count": 8,
   "metadata": {
    "scrolled": true
   },
   "outputs": [
    {
     "data": {
      "image/png": "[encoded data removed]",
      "text/plain": [
       "<matplotlib.figure.Figure at 0x2529021e8d0>"
      ]
     },
     "metadata": {},
     "output_type": "display_data"
    }
   ],
   "source": [
    "grped_review_df['review_count'] = pd.to_numeric(grped_review_df['review_count'])\n",
    "ax = sns.distplot(grped_review_df['review_count'])"
   ]
  },
  {
   "cell_type": "code",
   "execution_count": 8,
   "metadata": {},
   "outputs": [],
   "source": [
    "# cf_data_df = review_df.groupby(['business_id','user_id'])['date'].first().reset_index()\n",
    "# cf_data_df.columns = ['business_id','user_id','date']"
   ]
  },
  {
   "cell_type": "code",
   "execution_count": 9,
   "metadata": {},
   "outputs": [],
   "source": [
    "cf_data_df = review_df"
   ]
  },
  {
   "cell_type": "code",
   "execution_count": 10,
   "metadata": {},
   "outputs": [
    {
     "name": "stdout",
     "output_type": "stream",
     "text": [
      "19590\n",
      "544347\n"
     ]
    }
   ],
   "source": [
    "print(len(cf_data_df.business_id.unique()))\n",
    "print(len(cf_data_df.user_id.unique()))"
   ]
  },
  {
   "cell_type": "markdown",
   "metadata": {},
   "source": [
    "## Pre-Process the user-restaurants ratings as arrays"
   ]
  },
  {
   "cell_type": "code",
   "execution_count": 11,
   "metadata": {
    "scrolled": true
   },
   "outputs": [],
   "source": [
    "# cf_data_df\n",
    "\n",
    "# create a mapping for movie ids\n",
    "unique_restids = set(cf_data_df.business_id.values)\n",
    "rest_idx_dict = {}\n",
    "count = 0\n",
    "for restid in unique_restids:\n",
    "    rest_idx_dict[restid] = count\n",
    "    count += 1\n",
    "\n",
    "cf_data_df['rest_idx'] = cf_data_df.apply(lambda row: rest_idx_dict[row.business_id], axis=1)"
   ]
  },
  {
   "cell_type": "code",
   "execution_count": 12,
   "metadata": {},
   "outputs": [],
   "source": [
    "unique_userids = set(cf_data_df.user_id.values)\n",
    "user_idx_dict = {}\n",
    "count = 0\n",
    "for userid in unique_userids:\n",
    "    user_idx_dict[userid] = count\n",
    "    count += 1\n",
    "    \n",
    "cf_data_df['user_idx'] = cf_data_df.apply(lambda row: user_idx_dict[row.user_id], axis=1)"
   ]
  },
  {
   "cell_type": "code",
   "execution_count": 13,
   "metadata": {},
   "outputs": [
    {
     "name": "stdout",
     "output_type": "stream",
     "text": [
      "19590\n",
      "544347\n"
     ]
    },
    {
     "data": {
      "text/html": [
       "<div>\n",
       "<style scoped>\n",
       "    .dataframe tbody tr th:only-of-type {\n",
       "        vertical-align: middle;\n",
       "    }\n",
       "\n",
       "    .dataframe tbody tr th {\n",
       "        vertical-align: top;\n",
       "    }\n",
       "\n",
       "    .dataframe thead th {\n",
       "        text-align: right;\n",
       "    }\n",
       "</style>\n",
       "<table border=\"1\" class=\"dataframe\">\n",
       "  <thead>\n",
       "    <tr style=\"text-align: right;\">\n",
       "      <th></th>\n",
       "      <th>business_id</th>\n",
       "      <th>stars</th>\n",
       "      <th>date</th>\n",
       "      <th>user_id</th>\n",
       "      <th>rest_idx</th>\n",
       "      <th>user_idx</th>\n",
       "    </tr>\n",
       "  </thead>\n",
       "  <tbody>\n",
       "    <tr>\n",
       "      <th>0</th>\n",
       "      <td>3fw2X5bZYeW9xCz_zGhOHg</td>\n",
       "      <td>3.0</td>\n",
       "      <td>2016-05-07 01:21:02</td>\n",
       "      <td>jlu4CztcSxrKx56ba1a5AQ</td>\n",
       "      <td>2933</td>\n",
       "      <td>139962</td>\n",
       "    </tr>\n",
       "    <tr>\n",
       "      <th>1</th>\n",
       "      <td>NyLYY8q1-H3hfsTwuwLPCg</td>\n",
       "      <td>4.0</td>\n",
       "      <td>2015-01-03 22:47:34</td>\n",
       "      <td>86J5DwcFk4f4In1Vxe2TvA</td>\n",
       "      <td>18143</td>\n",
       "      <td>303190</td>\n",
       "    </tr>\n",
       "    <tr>\n",
       "      <th>2</th>\n",
       "      <td>y-Iw6dZflNix4BdwIyTNGA</td>\n",
       "      <td>3.0</td>\n",
       "      <td>2014-06-27 21:19:23</td>\n",
       "      <td>_N7Ndn29bpll_961oPeEfw</td>\n",
       "      <td>6099</td>\n",
       "      <td>254012</td>\n",
       "    </tr>\n",
       "    <tr>\n",
       "      <th>3</th>\n",
       "      <td>qx6WhZ42eDKmBchZDax4dQ</td>\n",
       "      <td>5.0</td>\n",
       "      <td>2017-03-27 01:14:37</td>\n",
       "      <td>DzZ7piLBF-WsJxqosfJgtA</td>\n",
       "      <td>6414</td>\n",
       "      <td>257447</td>\n",
       "    </tr>\n",
       "    <tr>\n",
       "      <th>4</th>\n",
       "      <td>9nTF596jDvBBia2EXXiOOg</td>\n",
       "      <td>1.0</td>\n",
       "      <td>2014-04-19 15:03:17</td>\n",
       "      <td>q3GeSW9dWN9r_ocqFkhrvg</td>\n",
       "      <td>4939</td>\n",
       "      <td>35901</td>\n",
       "    </tr>\n",
       "  </tbody>\n",
       "</table>\n",
       "</div>"
      ],
      "text/plain": [
       "              business_id  stars                date                 user_id  \\\n",
       "0  3fw2X5bZYeW9xCz_zGhOHg    3.0 2016-05-07 01:21:02  jlu4CztcSxrKx56ba1a5AQ   \n",
       "1  NyLYY8q1-H3hfsTwuwLPCg    4.0 2015-01-03 22:47:34  86J5DwcFk4f4In1Vxe2TvA   \n",
       "2  y-Iw6dZflNix4BdwIyTNGA    3.0 2014-06-27 21:19:23  _N7Ndn29bpll_961oPeEfw   \n",
       "3  qx6WhZ42eDKmBchZDax4dQ    5.0 2017-03-27 01:14:37  DzZ7piLBF-WsJxqosfJgtA   \n",
       "4  9nTF596jDvBBia2EXXiOOg    1.0 2014-04-19 15:03:17  q3GeSW9dWN9r_ocqFkhrvg   \n",
       "\n",
       "   rest_idx  user_idx  \n",
       "0      2933    139962  \n",
       "1     18143    303190  \n",
       "2      6099    254012  \n",
       "3      6414    257447  \n",
       "4      4939     35901  "
      ]
     },
     "execution_count": 13,
     "metadata": {},
     "output_type": "execute_result"
    }
   ],
   "source": [
    "print(cf_data_df.rest_idx.max()+1)\n",
    "print(cf_data_df.user_idx.max()+1)\n",
    "\n",
    "cf_data_df.head()"
   ]
  },
  {
   "cell_type": "code",
   "execution_count": 14,
   "metadata": {},
   "outputs": [],
   "source": [
    "# cf_data_df = pd.merge(cf_data_df,review_df[['business_id','user_id','date','stars']],on=['business_id','user_id','date'],how='left')\n",
    "# cf_data_df.head()"
   ]
  },
  {
   "cell_type": "code",
   "execution_count": 15,
   "metadata": {},
   "outputs": [],
   "source": [
    "user_rest_rating = cf_data_df[['rest_idx','user_idx','stars']]\n",
    "user_rest_rating.to_csv(BASE_PATH+'user_rest_rating.csv',index=False)\n",
    "\n",
    "# rest_index = cf_data_df[['business_id','rest_idx']].drop_duplicates()\n",
    "# rest_index.to_csv(BASE_PATH+'rest_index.csv',index=False)\n",
    "\n",
    "# user_index = cf_data_df[['user_id','user_idx']].drop_duplicates()\n",
    "# user_index.to_csv(BASE_PATH+'user_index.csv',index=False)"
   ]
  },
  {
   "cell_type": "code",
   "execution_count": 16,
   "metadata": {},
   "outputs": [
    {
     "data": {
      "text/plain": [
       "544347"
      ]
     },
     "execution_count": 16,
     "metadata": {},
     "output_type": "execute_result"
    }
   ],
   "source": [
    "user_rest_rating.user_idx.max()+1"
   ]
  },
  {
   "cell_type": "code",
   "execution_count": 212,
   "metadata": {},
   "outputs": [
    {
     "data": {
      "text/plain": [
       "19590"
      ]
     },
     "execution_count": 212,
     "metadata": {},
     "output_type": "execute_result"
    }
   ],
   "source": [
    "user_rest_rating.rest_idx.max()+1"
   ]
  },
  {
   "cell_type": "code",
   "execution_count": 17,
   "metadata": {},
   "outputs": [
    {
     "data": {
      "text/plain": [
       "544347"
      ]
     },
     "execution_count": 17,
     "metadata": {},
     "output_type": "execute_result"
    }
   ],
   "source": [
    "len(user_rest_rating.user_idx.unique())"
   ]
  },
  {
   "cell_type": "code",
   "execution_count": 18,
   "metadata": {},
   "outputs": [
    {
     "data": {
      "text/plain": [
       "1324324"
      ]
     },
     "execution_count": 18,
     "metadata": {},
     "output_type": "execute_result"
    }
   ],
   "source": [
    "len(user_rest_rating.user_idx)"
   ]
  },
  {
   "cell_type": "markdown",
   "metadata": {},
   "source": [
    "## Evaluation Functions definition"
   ]
  },
  {
   "cell_type": "code",
   "execution_count": null,
   "metadata": {},
   "outputs": [],
   "source": []
  },
  {
   "cell_type": "markdown",
   "metadata": {},
   "source": [
    "## Data Train-Test Split and pre-processing for training"
   ]
  },
  {
   "cell_type": "code",
   "execution_count": 19,
   "metadata": {},
   "outputs": [],
   "source": [
    "from sklearn.utils import shuffle\n",
    "import pickle\n",
    "from datetime import datetime"
   ]
  },
  {
   "cell_type": "code",
   "execution_count": 20,
   "metadata": {},
   "outputs": [
    {
     "name": "stdout",
     "output_type": "stream",
     "text": [
      "(1324324, 3)\n"
     ]
    },
    {
     "data": {
      "text/html": [
       "<div>\n",
       "<style scoped>\n",
       "    .dataframe tbody tr th:only-of-type {\n",
       "        vertical-align: middle;\n",
       "    }\n",
       "\n",
       "    .dataframe tbody tr th {\n",
       "        vertical-align: top;\n",
       "    }\n",
       "\n",
       "    .dataframe thead th {\n",
       "        text-align: right;\n",
       "    }\n",
       "</style>\n",
       "<table border=\"1\" class=\"dataframe\">\n",
       "  <thead>\n",
       "    <tr style=\"text-align: right;\">\n",
       "      <th></th>\n",
       "      <th>rest_idx</th>\n",
       "      <th>user_idx</th>\n",
       "      <th>stars</th>\n",
       "    </tr>\n",
       "  </thead>\n",
       "  <tbody>\n",
       "    <tr>\n",
       "      <th>0</th>\n",
       "      <td>2933</td>\n",
       "      <td>139962</td>\n",
       "      <td>3.0</td>\n",
       "    </tr>\n",
       "    <tr>\n",
       "      <th>1</th>\n",
       "      <td>18143</td>\n",
       "      <td>303190</td>\n",
       "      <td>4.0</td>\n",
       "    </tr>\n",
       "    <tr>\n",
       "      <th>2</th>\n",
       "      <td>6099</td>\n",
       "      <td>254012</td>\n",
       "      <td>3.0</td>\n",
       "    </tr>\n",
       "    <tr>\n",
       "      <th>3</th>\n",
       "      <td>6414</td>\n",
       "      <td>257447</td>\n",
       "      <td>5.0</td>\n",
       "    </tr>\n",
       "    <tr>\n",
       "      <th>4</th>\n",
       "      <td>4939</td>\n",
       "      <td>35901</td>\n",
       "      <td>1.0</td>\n",
       "    </tr>\n",
       "  </tbody>\n",
       "</table>\n",
       "</div>"
      ],
      "text/plain": [
       "   rest_idx  user_idx  stars\n",
       "0      2933    139962    3.0\n",
       "1     18143    303190    4.0\n",
       "2      6099    254012    3.0\n",
       "3      6414    257447    5.0\n",
       "4      4939     35901    1.0"
      ]
     },
     "execution_count": 20,
     "metadata": {},
     "output_type": "execute_result"
    }
   ],
   "source": [
    "user_rest_rating = pd.read_csv(BASE_PATH+'user_rest_rating.csv')\n",
    "print(user_rest_rating.shape)\n",
    "user_rest_rating.head()"
   ]
  },
  {
   "cell_type": "code",
   "execution_count": 21,
   "metadata": {},
   "outputs": [],
   "source": [
    "user_rest_rating = shuffle(user_rest_rating)\n",
    "cutoff = int(0.8*len(user_rest_rating))\n",
    "df_train = user_rest_rating.iloc[:cutoff]\n",
    "df_test = user_rest_rating.iloc[cutoff:]"
   ]
  },
  {
   "cell_type": "code",
   "execution_count": 22,
   "metadata": {},
   "outputs": [
    {
     "name": "stdout",
     "output_type": "stream",
     "text": [
      "(264865, 3)\n",
      "(1059459, 3)\n"
     ]
    }
   ],
   "source": [
    "print(df_test.shape)\n",
    "print(df_train.shape)"
   ]
  },
  {
   "cell_type": "code",
   "execution_count": 8,
   "metadata": {},
   "outputs": [
    {
     "data": {
      "text/plain": [
       "1024609"
      ]
     },
     "execution_count": 8,
     "metadata": {},
     "output_type": "execute_result"
    }
   ],
   "source": [
    "# a dictionary to tell us which users have rated which restaurants\n",
    "user2rest = {}\n",
    "# a dicationary to tell us which restaurants have been rated by which users\n",
    "rest2user = {}\n",
    "# a dictionary to look up ratings\n",
    "userrest2rating = {}\n",
    "\n",
    "def update_user2rest_and_rest2user(row):\n",
    "    i = int(row.user_idx)\n",
    "    j = int(row.rest_idx)\n",
    "    if i not in user2rest:\n",
    "        user2rest[i] = [j]\n",
    "    else:\n",
    "        user2rest[i].append(j)\n",
    "\n",
    "    if j not in rest2user:\n",
    "        rest2user[j] = [i]\n",
    "    else:\n",
    "        rest2user[j].append(i)\n",
    "\n",
    "    userrest2rating[(i,j)] = row.stars\n",
    "    \n",
    "df_train.apply(update_user2rest_and_rest2user, axis=1)\n",
    "\n",
    "len(userrest2rating.keys())"
   ]
  },
  {
   "cell_type": "code",
   "execution_count": 9,
   "metadata": {},
   "outputs": [
    {
     "data": {
      "text/plain": [
       "256153"
      ]
     },
     "execution_count": 9,
     "metadata": {},
     "output_type": "execute_result"
    }
   ],
   "source": [
    "# test ratings dictionary\n",
    "userrest2rating_test = {}\n",
    "\n",
    "def update_userrest2rating_test(row):\n",
    "    i = int(row.user_idx)\n",
    "    j = int(row.rest_idx)\n",
    "    userrest2rating_test[(i,j)] = row.stars\n",
    "    \n",
    "df_test.apply(update_userrest2rating_test, axis=1)\n",
    "\n",
    "len(userrest2rating_test.keys())"
   ]
  },
  {
   "cell_type": "code",
   "execution_count": 10,
   "metadata": {},
   "outputs": [],
   "source": [
    "# note: these are not really JSONs\n",
    "with open(BASE_PATH+'user2rest.pkl', 'wb') as f:\n",
    "    pickle.dump(user2rest, f)\n",
    "\n",
    "with open(BASE_PATH+'rest2user.pkl', 'wb') as f:\n",
    "    pickle.dump(rest2user, f)\n",
    "\n",
    "with open(BASE_PATH+'userrest2rating.pkl', 'wb') as f:\n",
    "    pickle.dump(userrest2rating, f)\n",
    "\n",
    "with open(BASE_PATH+'userrest2rating_test.pkl', 'wb') as f:\n",
    "    pickle.dump(userrest2rating_test, f)\n"
   ]
  },
  {
   "cell_type": "markdown",
   "metadata": {},
   "source": [
    "## Build the Matrix Factorization Model"
   ]
  },
  {
   "cell_type": "code",
   "execution_count": 25,
   "metadata": {},
   "outputs": [
    {
     "name": "stdout",
     "output_type": "stream",
     "text": [
      "N: 544347 M: 19590\n"
     ]
    }
   ],
   "source": [
    "N = np.max(list(user2rest.keys())) + 1\n",
    "# the test set may contain movies the train set doesn't have data on\n",
    "m1 = np.max(list(rest2user.keys()))\n",
    "m2 = np.max([m for (u, m), r in userrest2rating_test.items()])\n",
    "M = max(m1, m2) + 1\n",
    "print(\"N:\", N, \"M:\", M)"
   ]
  },
  {
   "cell_type": "code",
   "execution_count": 26,
   "metadata": {},
   "outputs": [],
   "source": [
    "user2rest_rating = {}\n",
    "for i, rest_list in user2rest.items():\n",
    "    r = np.array([userrest2rating[(i,j)] for j in rest_list])\n",
    "    user2rest_rating[i] = (rest_list, r)\n",
    "    \n",
    "rest2user_rating = {}\n",
    "for j, users in rest2user.items():\n",
    "    r = np.array([userrest2rating[(i,j)] for i in users])\n",
    "    rest2user_rating[j] = (users, r)"
   ]
  },
  {
   "cell_type": "code",
   "execution_count": 29,
   "metadata": {},
   "outputs": [
    {
     "data": {
      "text/plain": [
       "([3266], array([3.]))"
      ]
     },
     "execution_count": 29,
     "metadata": {},
     "output_type": "execute_result"
    }
   ],
   "source": [
    "user2rest_rating[800]"
   ]
  },
  {
   "cell_type": "code",
   "execution_count": 30,
   "metadata": {},
   "outputs": [],
   "source": [
    "rest2userrating_test = {}\n",
    "for (i, j), r in userrest2rating_test.items():\n",
    "    if j not in rest2userrating_test:\n",
    "        rest2userrating_test[j] = [[i], [r]]\n",
    "    else:\n",
    "        rest2userrating_test[j][0].append(i)\n",
    "        rest2userrating_test[j][1].append(r)\n",
    "for j, (users, r) in rest2userrating_test.items():\n",
    "    rest2userrating_test[j][1] = np.array(r)"
   ]
  },
  {
   "cell_type": "code",
   "execution_count": 31,
   "metadata": {},
   "outputs": [
    {
     "data": {
      "text/plain": [
       "[[508590], array([5.])]"
      ]
     },
     "execution_count": 31,
     "metadata": {},
     "output_type": "execute_result"
    }
   ],
   "source": [
    "rest2userrating_test[4]"
   ]
  },
  {
   "cell_type": "code",
   "execution_count": 32,
   "metadata": {},
   "outputs": [
    {
     "name": "stdout",
     "output_type": "stream",
     "text": [
      "3.7461878103625974\n"
     ]
    }
   ],
   "source": [
    "# initialize variables\n",
    "K = 25 # latent dimensionality\n",
    "W = np.random.randn(N, K)\n",
    "b = np.zeros(N)\n",
    "U = np.random.randn(M, K)\n",
    "c = np.zeros(M)\n",
    "mu = np.mean(list(userrest2rating.values()))\n",
    "print(mu)"
   ]
  },
  {
   "cell_type": "code",
   "execution_count": 33,
   "metadata": {},
   "outputs": [],
   "source": [
    "def get_loss(m2u):\n",
    "    # d: movie_id -> (user_ids, ratings)\n",
    "    N = 0.\n",
    "    sse = 0\n",
    "    for j, (u_ids, r) in m2u.items():\n",
    "        p = W[u_ids].dot(U[j]) + b[u_ids] + c[j] + mu\n",
    "        delta = p - r\n",
    "        sse += delta.dot(delta)\n",
    "        N += len(r)\n",
    "    return sse / N"
   ]
  },
  {
   "cell_type": "code",
   "execution_count": 34,
   "metadata": {
    "scrolled": true
   },
   "outputs": [
    {
     "name": "stdout",
     "output_type": "stream",
     "text": [
      "epoch: 0\n",
      "updated W and b: 0:00:35.955012\n",
      "updated U and c: 0:00:02.674969\n",
      "epoch duration: 0:00:38.630981\n",
      "calculate cost: 0:00:01.045033\n",
      "train loss: 1.6536898625640328\n",
      "test loss: 1.7719329112381257\n",
      "epoch: 1\n",
      "updated W and b: 0:00:33.965478\n",
      "updated U and c: 0:00:02.590001\n",
      "epoch duration: 0:00:36.555479\n",
      "calculate cost: 0:00:00.990001\n",
      "train loss: 1.63527536044203\n",
      "test loss: 1.6868147130880553\n",
      "epoch: 2\n",
      "updated W and b: 0:00:35.853779\n",
      "updated U and c: 0:00:02.696505\n",
      "epoch duration: 0:00:38.551280\n",
      "calculate cost: 0:00:01.093033\n",
      "train loss: 1.636116199804919\n",
      "test loss: 1.6776694661168414\n",
      "epoch: 3\n",
      "updated W and b: 0:00:34.783850\n",
      "updated U and c: 0:00:02.760036\n",
      "epoch duration: 0:00:37.544860\n",
      "calculate cost: 0:00:01.061027\n",
      "train loss: 1.6363791994462382\n",
      "test loss: 1.6743620296112318\n",
      "epoch: 4\n",
      "updated W and b: 0:00:35.788992\n",
      "updated U and c: 0:00:02.956996\n",
      "epoch duration: 0:00:38.746983\n",
      "calculate cost: 0:00:01.070034\n",
      "train loss: 1.6364992332421413\n",
      "test loss: 1.672756882278179\n",
      "epoch: 5\n",
      "updated W and b: 0:00:34.222017\n",
      "updated U and c: 0:00:02.721004\n",
      "epoch duration: 0:00:36.944019\n",
      "calculate cost: 0:00:01.029000\n",
      "train loss: 1.6365629720599308\n",
      "test loss: 1.6718670581369526\n",
      "epoch: 6\n",
      "updated W and b: 0:00:34.814977\n",
      "updated U and c: 0:00:02.735035\n",
      "epoch duration: 0:00:37.550012\n",
      "calculate cost: 0:00:01.012994\n",
      "train loss: 1.63659912749922\n",
      "test loss: 1.6713414379500964\n",
      "epoch: 7\n",
      "updated W and b: 0:00:36.191130\n",
      "updated U and c: 0:00:03.206034\n",
      "epoch duration: 0:00:39.398125\n",
      "calculate cost: 0:00:01.065001\n",
      "train loss: 1.6366202485146506\n",
      "test loss: 1.6710203917505109\n",
      "epoch: 8\n",
      "updated W and b: 0:00:35.242977\n",
      "updated U and c: 0:00:02.897032\n",
      "epoch duration: 0:00:38.140009\n",
      "calculate cost: 0:00:01.122987\n",
      "train loss: 1.6366327585102007\n",
      "test loss: 1.6708201076537146\n",
      "epoch: 9\n",
      "updated W and b: 0:00:36.323009\n",
      "updated U and c: 0:00:02.915031\n",
      "epoch duration: 0:00:39.239040\n",
      "calculate cost: 0:00:01.144001\n",
      "train loss: 1.636640219398806\n",
      "test loss: 1.670693082047013\n",
      "epoch: 10\n",
      "updated W and b: 0:00:35.651141\n",
      "updated U and c: 0:00:02.870035\n",
      "epoch duration: 0:00:38.523190\n",
      "calculate cost: 0:00:01.016034\n",
      "train loss: 1.6366446851297056\n",
      "test loss: 1.6706112897308227\n",
      "epoch: 11\n",
      "updated W and b: 0:00:35.753689\n",
      "updated U and c: 0:00:02.771684\n",
      "epoch duration: 0:00:38.525373\n",
      "calculate cost: 0:00:01.021217\n",
      "train loss: 1.6366473633759626\n",
      "test loss: 1.6705578190550445\n",
      "epoch: 12\n",
      "updated W and b: 0:00:39.389855\n",
      "updated U and c: 0:00:03.169995\n",
      "epoch duration: 0:00:42.559850\n",
      "calculate cost: 0:00:01.230972\n",
      "train loss: 1.6366489713885914\n",
      "test loss: 1.670522312685752\n",
      "epoch: 13\n",
      "updated W and b: 0:00:38.458476\n",
      "updated U and c: 0:00:02.882617\n",
      "epoch duration: 0:00:41.341093\n",
      "calculate cost: 0:00:01.097001\n",
      "train loss: 1.6366499374492922\n",
      "test loss: 1.6704983529452435\n",
      "epoch: 14\n",
      "updated W and b: 0:00:34.774590\n",
      "updated U and c: 0:00:02.713976\n",
      "epoch duration: 0:00:37.488566\n",
      "calculate cost: 0:00:01.130035\n",
      "train loss: 1.636650518053364\n",
      "test loss: 1.6704819198838683\n",
      "epoch: 15\n",
      "updated W and b: 0:00:34.862445\n",
      "updated U and c: 0:00:02.608892\n",
      "epoch duration: 0:00:37.471337\n",
      "calculate cost: 0:00:01.159000\n",
      "train loss: 1.6366508670733626\n",
      "test loss: 1.6704704670832988\n",
      "epoch: 16\n",
      "updated W and b: 0:00:34.974350\n",
      "updated U and c: 0:00:02.759919\n",
      "epoch duration: 0:00:37.735297\n",
      "calculate cost: 0:00:01.029692\n",
      "train loss: 1.6366510769076805\n",
      "test loss: 1.670462361817808\n",
      "epoch: 17\n",
      "updated W and b: 0:00:36.588438\n",
      "updated U and c: 0:00:02.723701\n",
      "epoch duration: 0:00:39.313141\n",
      "calculate cost: 0:00:01.156665\n",
      "train loss: 1.6366512030718505\n",
      "test loss: 1.670456543173695\n",
      "epoch: 18\n",
      "updated W and b: 0:00:36.013135\n",
      "updated U and c: 0:00:02.743001\n",
      "epoch duration: 0:00:38.756136\n",
      "calculate cost: 0:00:01.104969\n",
      "train loss: 1.6366512789323058\n",
      "test loss: 1.6704523117417824\n",
      "epoch: 19\n",
      "updated W and b: 0:00:34.529229\n",
      "updated U and c: 0:00:03.009967\n",
      "epoch duration: 0:00:37.540196\n",
      "calculate cost: 0:00:01.325000\n",
      "train loss: 1.6366513245472194\n",
      "test loss: 1.6704491992763266\n",
      "epoch: 20\n",
      "updated W and b: 0:00:36.068964\n",
      "updated U and c: 0:00:02.681004\n",
      "epoch duration: 0:00:38.749968\n",
      "calculate cost: 0:00:01.046991\n",
      "train loss: 1.6366513519759238\n",
      "test loss: 1.6704468872446134\n",
      "epoch: 21\n",
      "updated W and b: 0:00:35.087950\n",
      "updated U and c: 0:00:02.617786\n",
      "epoch duration: 0:00:37.706753\n",
      "calculate cost: 0:00:01.033999\n",
      "train loss: 1.6366513684692459\n",
      "test loss: 1.6704451554469095\n",
      "epoch: 22\n",
      "updated W and b: 0:00:35.970151\n",
      "updated U and c: 0:00:02.955034\n",
      "epoch duration: 0:00:38.927151\n",
      "calculate cost: 0:00:01.248010\n",
      "train loss: 1.6366513783869996\n",
      "test loss: 1.6704438492536857\n",
      "epoch: 23\n",
      "updated W and b: 0:00:36.776547\n",
      "updated U and c: 0:00:03.561011\n",
      "epoch duration: 0:00:40.338573\n",
      "calculate cost: 0:00:01.154010\n",
      "train loss: 1.6366513843507529\n",
      "test loss: 1.6704428584565891\n",
      "epoch: 24\n",
      "updated W and b: 0:00:36.925153\n",
      "updated U and c: 0:00:02.932121\n",
      "epoch duration: 0:00:39.857274\n",
      "calculate cost: 0:00:01.091393\n",
      "train loss: 1.6366513879368978\n",
      "test loss: 1.6704421034285801\n",
      "train losses: [1.6536898625640328, 1.63527536044203, 1.636116199804919, 1.6363791994462382, 1.6364992332421413, 1.6365629720599308, 1.63659912749922, 1.6366202485146506, 1.6366327585102007, 1.636640219398806, 1.6366446851297056, 1.6366473633759626, 1.6366489713885914, 1.6366499374492922, 1.636650518053364, 1.6366508670733626, 1.6366510769076805, 1.6366512030718505, 1.6366512789323058, 1.6366513245472194, 1.6366513519759238, 1.6366513684692459, 1.6366513783869996, 1.6366513843507529, 1.6366513879368978]\n",
      "test losses: [1.7719329112381257, 1.6868147130880553, 1.6776694661168414, 1.6743620296112318, 1.672756882278179, 1.6718670581369526, 1.6713414379500964, 1.6710203917505109, 1.6708201076537146, 1.670693082047013, 1.6706112897308227, 1.6705578190550445, 1.670522312685752, 1.6704983529452435, 1.6704819198838683, 1.6704704670832988, 1.670462361817808, 1.670456543173695, 1.6704523117417824, 1.6704491992763266, 1.6704468872446134, 1.6704451554469095, 1.6704438492536857, 1.6704428584565891, 1.6704421034285801]\n"
     ]
    }
   ],
   "source": [
    "# train the parameters\n",
    "epochs = 25\n",
    "reg_u = 120.0 # regularization penalty\n",
    "reg_w = 120.0 # regularization penalty\n",
    "train_losses = []\n",
    "test_losses = []\n",
    "for epoch in range(epochs):\n",
    "    print(\"epoch:\", epoch)\n",
    "    epoch_start = datetime.now()\n",
    "  # perform updates\n",
    "\n",
    "  # update W and b\n",
    "    t0 = datetime.now()\n",
    "    for i in user2rest_rating.keys():\n",
    "        m_ids, r = user2rest_rating[i]\n",
    "        matrix = U[m_ids].T.dot(U[m_ids]) + np.eye(K) * reg_u\n",
    "        vector = (r - b[i] - c[m_ids] - mu).dot(U[m_ids])\n",
    "        bi = (r - U[m_ids].dot(W[i]) - c[m_ids] - mu).sum()\n",
    "\n",
    "        # set the updates\n",
    "        W[i] = np.linalg.solve(matrix, vector)\n",
    "        b[i] = bi / (len(user2rest[i])+ reg_u) # + reg_u\n",
    "\n",
    "#         if i % (N//10) == 0:\n",
    "#             print(\"i:\", i, \"N:\", N)\n",
    "    print(\"updated W and b:\", datetime.now() - t0)\n",
    "\n",
    "\n",
    "  # update U and c\n",
    "    t0 = datetime.now()\n",
    "    for j in rest2user_rating.keys():\n",
    "        try:\n",
    "            u_ids, r = rest2user_rating[j]\n",
    "            matrix = W[u_ids].T.dot(W[u_ids]) + np.eye(K) * reg_w\n",
    "            vector = (r - b[u_ids] - c[j] - mu).dot(W[u_ids])\n",
    "            cj = (r - W[u_ids].dot(U[j]) - b[u_ids] - mu).sum()\n",
    "\n",
    "          # set the updates\n",
    "            U[j] = np.linalg.solve(matrix, vector)\n",
    "            c[j] = cj / (len(rest2user[j])+ reg_w) # + reg_w\n",
    "\n",
    "#             if j % (M//10) == 0:\n",
    "#                 print(\"j:\", j, \"M:\", M)\n",
    "        except KeyError:\n",
    "          # possible not to have any ratings for a movie\n",
    "            pass\n",
    "    print(\"updated U and c:\", datetime.now() - t0)\n",
    "    print(\"epoch duration:\", datetime.now() - epoch_start)\n",
    "\n",
    "\n",
    "    # store train loss\n",
    "    t0 = datetime.now()\n",
    "    train_losses.append(get_loss(rest2user_rating))\n",
    "\n",
    "    # store test loss\n",
    "    test_losses.append(get_loss(rest2userrating_test))\n",
    "    print(\"calculate cost:\", datetime.now() - t0)\n",
    "    print(\"train loss:\", train_losses[-1])\n",
    "    print(\"test loss:\", test_losses[-1])\n",
    "\n",
    "print(\"train losses:\", train_losses)\n",
    "print(\"test losses:\", test_losses)"
   ]
  },
  {
   "cell_type": "markdown",
   "metadata": {},
   "source": [
    "## Evaluate the MF Model"
   ]
  },
  {
   "cell_type": "code",
   "execution_count": 52,
   "metadata": {},
   "outputs": [
    {
     "data": {
      "text/plain": [
       "[(333919, 5595),\n",
       " (69614, 13390),\n",
       " (420269, 7931),\n",
       " (331111, 16174),\n",
       " (392948, 14364),\n",
       " (305658, 8392),\n",
       " (225525, 3139),\n",
       " (81897, 17950),\n",
       " (154028, 11658),\n",
       " (448393, 19153)]"
      ]
     },
     "execution_count": 52,
     "metadata": {},
     "output_type": "execute_result"
    }
   ],
   "source": [
    "list(userrest2rating_test.keys())[10:20]"
   ]
  },
  {
   "cell_type": "code",
   "execution_count": 57,
   "metadata": {},
   "outputs": [
    {
     "name": "stdout",
     "output_type": "stream",
     "text": [
      "4.407007380935664\n",
      "1.0\n"
     ]
    }
   ],
   "source": [
    "user_id = 392948\n",
    "rest_id = 14364\n",
    "\n",
    "print(W[user_id].dot(U[rest_id]) + b[user_id] + c[rest_id] + mu)\n",
    "print(userrest2rating_test[(user_id, rest_id)])"
   ]
  },
  {
   "cell_type": "code",
   "execution_count": 54,
   "metadata": {},
   "outputs": [
    {
     "data": {
      "image/png": "[encoded data removed]",
      "text/plain": [
       "<matplotlib.figure.Figure at 0x21439851048>"
      ]
     },
     "metadata": {},
     "output_type": "display_data"
    }
   ],
   "source": [
    "# plot losses\n",
    "plt.plot(train_losses, label=\"train loss\")\n",
    "plt.plot(test_losses, label=\"test loss\")\n",
    "plt.legend()\n",
    "plt.show()"
   ]
  },
  {
   "cell_type": "markdown",
   "metadata": {},
   "source": [
    "## Build the MF-Keras model"
   ]
  },
  {
   "cell_type": "code",
   "execution_count": 3,
   "metadata": {},
   "outputs": [
    {
     "name": "stderr",
     "output_type": "stream",
     "text": [
      "D:\\programming\\anaconda5.1.0\\lib\\site-packages\\h5py\\__init__.py:36: FutureWarning: Conversion of the second argument of issubdtype from `float` to `np.floating` is deprecated. In future, it will be treated as `np.float64 == np.dtype(float).type`.\n",
      "  from ._conv import register_converters as _register_converters\n",
      "Using TensorFlow backend.\n",
      "D:\\programming\\anaconda5.1.0\\lib\\site-packages\\requests\\__init__.py:91: RequestsDependencyWarning: urllib3 (1.24.1) or chardet (3.0.4) doesn't match a supported version!\n",
      "  RequestsDependencyWarning)\n"
     ]
    }
   ],
   "source": [
    "from keras.models import Model\n",
    "from keras.layers import Input, Embedding, Dot, Add, Flatten\n",
    "from keras.regularizers import l2\n",
    "from keras.optimizers import SGD, Adam"
   ]
  },
  {
   "cell_type": "code",
   "execution_count": 69,
   "metadata": {},
   "outputs": [
    {
     "name": "stdout",
     "output_type": "stream",
     "text": [
      "(1059459, 3)\n",
      "(264865, 3)\n",
      "mean ratings for restauratns  3.7442665087999614\n",
      "# of users  544347\n",
      "# of restaurants  19590\n",
      "Latest dimension  8\n"
     ]
    }
   ],
   "source": [
    "N = user_rest_rating.user_idx.max()+1\n",
    "M = user_rest_rating.rest_idx.max()+1\n",
    "\n",
    "# initialize variables\n",
    "K = 8 # latent dimensionality\n",
    "mu = user_rest_rating.stars.mean()\n",
    "epochs = 10\n",
    "reg = 0. # regularization penalty\n",
    "\n",
    "print(df_train.shape)\n",
    "print(df_test.shape)\n",
    "print('mean ratings for restauratns ',mu)\n",
    "print('# of users ',N)\n",
    "print('# of restaurants ',M)\n",
    "print('Latest dimension ',K)"
   ]
  },
  {
   "cell_type": "code",
   "execution_count": 70,
   "metadata": {},
   "outputs": [
    {
     "data": {
      "text/html": [
       "<div>\n",
       "<style scoped>\n",
       "    .dataframe tbody tr th:only-of-type {\n",
       "        vertical-align: middle;\n",
       "    }\n",
       "\n",
       "    .dataframe tbody tr th {\n",
       "        vertical-align: top;\n",
       "    }\n",
       "\n",
       "    .dataframe thead th {\n",
       "        text-align: right;\n",
       "    }\n",
       "</style>\n",
       "<table border=\"1\" class=\"dataframe\">\n",
       "  <thead>\n",
       "    <tr style=\"text-align: right;\">\n",
       "      <th></th>\n",
       "      <th>rest_idx</th>\n",
       "      <th>user_idx</th>\n",
       "      <th>stars</th>\n",
       "    </tr>\n",
       "  </thead>\n",
       "  <tbody>\n",
       "    <tr>\n",
       "      <th>105219</th>\n",
       "      <td>6988</td>\n",
       "      <td>417594</td>\n",
       "      <td>4.0</td>\n",
       "    </tr>\n",
       "    <tr>\n",
       "      <th>1229525</th>\n",
       "      <td>2008</td>\n",
       "      <td>330675</td>\n",
       "      <td>5.0</td>\n",
       "    </tr>\n",
       "    <tr>\n",
       "      <th>613440</th>\n",
       "      <td>5019</td>\n",
       "      <td>372470</td>\n",
       "      <td>5.0</td>\n",
       "    </tr>\n",
       "    <tr>\n",
       "      <th>195813</th>\n",
       "      <td>13906</td>\n",
       "      <td>192232</td>\n",
       "      <td>4.0</td>\n",
       "    </tr>\n",
       "    <tr>\n",
       "      <th>1083320</th>\n",
       "      <td>3070</td>\n",
       "      <td>452500</td>\n",
       "      <td>3.0</td>\n",
       "    </tr>\n",
       "  </tbody>\n",
       "</table>\n",
       "</div>"
      ],
      "text/plain": [
       "         rest_idx  user_idx  stars\n",
       "105219       6988    417594    4.0\n",
       "1229525      2008    330675    5.0\n",
       "613440       5019    372470    5.0\n",
       "195813      13906    192232    4.0\n",
       "1083320      3070    452500    3.0"
      ]
     },
     "execution_count": 70,
     "metadata": {},
     "output_type": "execute_result"
    }
   ],
   "source": [
    "df_train.head()"
   ]
  },
  {
   "cell_type": "code",
   "execution_count": 71,
   "metadata": {},
   "outputs": [],
   "source": [
    "u = Input(shape=(1,),name='user-input')\n",
    "m = Input(shape=(1,),name='rest-input')\n",
    "u_embedding = Embedding(N, K, embeddings_regularizer=l2(reg), name='user-embedding')(u) # (N, 1, K)\n",
    "m_embedding = Embedding(M, K, embeddings_regularizer=l2(reg), name='rest-embedding')(m) # (N, 1, K)\n",
    "\n",
    "u_bias = Embedding(N, 1, embeddings_regularizer=l2(reg), name='user-bias')(u) # (N, 1, 1)\n",
    "m_bias = Embedding(M, 1, embeddings_regularizer=l2(reg), name='rest-bias')(m) # (N, 1, 1)\n",
    "\n",
    "x = Dot(axes=2, name=\"Dot-Product\")([u_embedding, m_embedding]) # (N, 1, 1)\n",
    "x = Add(name=\"Add-Emb-Bias\")([x, u_bias, m_bias])\n",
    "x = Flatten(name=\"Flatten-Users\")(x) # (N, 1)\n",
    "\n",
    "model = Model(inputs=[u, m], outputs=x)\n",
    "model.compile(\n",
    "  loss='mse',\n",
    "  # optimizer='adam',\n",
    "  # optimizer=Adam(lr=0.01),\n",
    "  optimizer=SGD(lr=0.05, momentum=0.9),\n",
    "  metrics=['mse'],\n",
    ")"
   ]
  },
  {
   "cell_type": "code",
   "execution_count": 72,
   "metadata": {},
   "outputs": [
    {
     "name": "stdout",
     "output_type": "stream",
     "text": [
      "__________________________________________________________________________________________________\n",
      "Layer (type)                    Output Shape         Param #     Connected to                     \n",
      "==================================================================================================\n",
      "user-input (InputLayer)         (None, 1)            0                                            \n",
      "__________________________________________________________________________________________________\n",
      "rest-input (InputLayer)         (None, 1)            0                                            \n",
      "__________________________________________________________________________________________________\n",
      "user-embedding (Embedding)      (None, 1, 8)         4354776     user-input[0][0]                 \n",
      "__________________________________________________________________________________________________\n",
      "rest-embedding (Embedding)      (None, 1, 8)         156720      rest-input[0][0]                 \n",
      "__________________________________________________________________________________________________\n",
      "Dot-Product (Dot)               (None, 1, 1)         0           user-embedding[0][0]             \n",
      "                                                                 rest-embedding[0][0]             \n",
      "__________________________________________________________________________________________________\n",
      "user-bias (Embedding)           (None, 1, 1)         544347      user-input[0][0]                 \n",
      "__________________________________________________________________________________________________\n",
      "rest-bias (Embedding)           (None, 1, 1)         19590       rest-input[0][0]                 \n",
      "__________________________________________________________________________________________________\n",
      "Add-Emb-Bias (Add)              (None, 1, 1)         0           Dot-Product[0][0]                \n",
      "                                                                 user-bias[0][0]                  \n",
      "                                                                 rest-bias[0][0]                  \n",
      "__________________________________________________________________________________________________\n",
      "Flatten-Users (Flatten)         (None, 1)            0           Add-Emb-Bias[0][0]               \n",
      "==================================================================================================\n",
      "Total params: 5,075,433\n",
      "Trainable params: 5,075,433\n",
      "Non-trainable params: 0\n",
      "__________________________________________________________________________________________________\n"
     ]
    }
   ],
   "source": [
    "model.summary()"
   ]
  },
  {
   "cell_type": "code",
   "execution_count": 73,
   "metadata": {},
   "outputs": [
    {
     "name": "stdout",
     "output_type": "stream",
     "text": [
      "Train on 1059459 samples, validate on 264865 samples\n",
      "Epoch 1/10\n",
      "1059459/1059459 [==============================] - 349s 330us/step - loss: 1.7389 - mean_squared_error: 1.7389 - val_loss: 1.6625 - val_mean_squared_error: 1.6625\n",
      "Epoch 2/10\n",
      "1059459/1059459 [==============================] - 348s 328us/step - loss: 1.5912 - mean_squared_error: 1.5912 - val_loss: 1.6039 - val_mean_squared_error: 1.6039\n",
      "Epoch 3/10\n",
      "1059459/1059459 [==============================] - 353s 333us/step - loss: 1.5196 - mean_squared_error: 1.5196 - val_loss: 1.5727 - val_mean_squared_error: 1.5727\n",
      "Epoch 4/10\n",
      "1059459/1059459 [==============================] - 352s 332us/step - loss: 1.4695 - mean_squared_error: 1.4695 - val_loss: 1.5529 - val_mean_squared_error: 1.5529\n",
      "Epoch 5/10\n",
      "1059459/1059459 [==============================] - 357s 337us/step - loss: 1.4299 - mean_squared_error: 1.4299 - val_loss: 1.5394 - val_mean_squared_error: 1.5394\n",
      "Epoch 6/10\n",
      "1059459/1059459 [==============================] - 367s 347us/step - loss: 1.3962 - mean_squared_error: 1.3962 - val_loss: 1.5298 - val_mean_squared_error: 1.5298\n",
      "Epoch 7/10\n",
      "1059459/1059459 [==============================] - 333s 314us/step - loss: 1.3654 - mean_squared_error: 1.3654 - val_loss: 1.5220 - val_mean_squared_error: 1.5220\n",
      "Epoch 8/10\n",
      "1059459/1059459 [==============================] - 352s 333us/step - loss: 1.3345 - mean_squared_error: 1.3345 - val_loss: 1.5162 - val_mean_squared_error: 1.5162\n",
      "Epoch 9/10\n",
      "1059459/1059459 [==============================] - 330s 312us/step - loss: 1.3023 - mean_squared_error: 1.3023 - val_loss: 1.5113 - val_mean_squared_error: 1.5113\n",
      "Epoch 10/10\n",
      "1059459/1059459 [==============================] - 1774s 2ms/step - loss: 1.2706 - mean_squared_error: 1.2706 - val_loss: 1.5081 - val_mean_squared_error: 1.5081\n"
     ]
    }
   ],
   "source": [
    "r = model.fit(\n",
    "  x=[df_train.user_idx.values, df_train.rest_idx.values],\n",
    "  y=df_train.stars.values - mu,\n",
    "  epochs=epochs,\n",
    "  batch_size=128,\n",
    "  validation_data=(\n",
    "    [df_test.user_idx.values, df_test.rest_idx.values],\n",
    "    df_test.stars.values - mu\n",
    "  )\n",
    ")"
   ]
  },
  {
   "cell_type": "code",
   "execution_count": 108,
   "metadata": {},
   "outputs": [
    {
     "name": "stdout",
     "output_type": "stream",
     "text": [
      "[121842 225075  56456 336343 110862]\n",
      "[ 3684  2453 10174  9588 14748]\n",
      "[ 1.25573349 -2.74426651 -1.74426651 -1.74426651  0.25573349]\n",
      "[ 0.35122454 -0.10493046 -1.677135   -0.55075896  0.63722336]\n"
     ]
    }
   ],
   "source": [
    "print(df_test.user_idx.values[10:15])\n",
    "print(df_test.rest_idx.values[10:15])\n",
    "print(df_test.stars.values[10:15] - mu)\n",
    "pred = model.predict([df_test.user_idx.values[10:15], df_test.rest_idx.values[10:15]])\n",
    "print(np.reshape(pred,-1))"
   ]
  },
  {
   "cell_type": "code",
   "execution_count": 84,
   "metadata": {},
   "outputs": [],
   "source": [
    "model.save('keras_mf.model')"
   ]
  },
  {
   "cell_type": "markdown",
   "metadata": {},
   "source": [
    "## Evaluate the MF-Keras"
   ]
  },
  {
   "cell_type": "code",
   "execution_count": 85,
   "metadata": {},
   "outputs": [
    {
     "data": {
      "image/png": "[encoded data removed]",
      "text/plain": [
       "<matplotlib.figure.Figure at 0x25299d07d68>"
      ]
     },
     "metadata": {},
     "output_type": "display_data"
    }
   ],
   "source": [
    "plt.plot(r.history['loss'], label=\"train loss\")\n",
    "plt.plot(r.history['val_loss'], label=\"test loss\")\n",
    "plt.legend()\n",
    "plt.show()"
   ]
  },
  {
   "cell_type": "code",
   "execution_count": 86,
   "metadata": {},
   "outputs": [
    {
     "data": {
      "image/png": "[encoded data removed]",
      "text/plain": [
       "<matplotlib.figure.Figure at 0x2529b5e9198>"
      ]
     },
     "metadata": {},
     "output_type": "display_data"
    }
   ],
   "source": [
    "# plot mse\n",
    "plt.plot(r.history['mean_squared_error'], label=\"train mse\")\n",
    "plt.plot(r.history['val_mean_squared_error'], label=\"test mse\")\n",
    "plt.legend()\n",
    "plt.show()"
   ]
  },
  {
   "cell_type": "code",
   "execution_count": 87,
   "metadata": {},
   "outputs": [],
   "source": [
    "from keras.models import load_model\n",
    "from keras import backend as K"
   ]
  },
  {
   "cell_type": "code",
   "execution_count": 88,
   "metadata": {},
   "outputs": [
    {
     "name": "stdout",
     "output_type": "stream",
     "text": [
      "__________________________________________________________________________________________________\n",
      "Layer (type)                    Output Shape         Param #     Connected to                     \n",
      "==================================================================================================\n",
      "user-input (InputLayer)         (None, 1)            0                                            \n",
      "__________________________________________________________________________________________________\n",
      "rest-input (InputLayer)         (None, 1)            0                                            \n",
      "__________________________________________________________________________________________________\n",
      "user-embedding (Embedding)      (None, 1, 8)         4354776     user-input[0][0]                 \n",
      "__________________________________________________________________________________________________\n",
      "rest-embedding (Embedding)      (None, 1, 8)         156720      rest-input[0][0]                 \n",
      "__________________________________________________________________________________________________\n",
      "Dot-Product (Dot)               (None, 1, 1)         0           user-embedding[0][0]             \n",
      "                                                                 rest-embedding[0][0]             \n",
      "__________________________________________________________________________________________________\n",
      "user-bias (Embedding)           (None, 1, 1)         544347      user-input[0][0]                 \n",
      "__________________________________________________________________________________________________\n",
      "rest-bias (Embedding)           (None, 1, 1)         19590       rest-input[0][0]                 \n",
      "__________________________________________________________________________________________________\n",
      "Add-Emb-Bias (Add)              (None, 1, 1)         0           Dot-Product[0][0]                \n",
      "                                                                 user-bias[0][0]                  \n",
      "                                                                 rest-bias[0][0]                  \n",
      "__________________________________________________________________________________________________\n",
      "Flatten-Users (Flatten)         (None, 1)            0           Add-Emb-Bias[0][0]               \n",
      "==================================================================================================\n",
      "Total params: 5,075,433\n",
      "Trainable params: 5,075,433\n",
      "Non-trainable params: 0\n",
      "__________________________________________________________________________________________________\n"
     ]
    }
   ],
   "source": [
    "model = load_model('keras_mf.model')\n",
    "model.summary()"
   ]
  },
  {
   "cell_type": "code",
   "execution_count": 127,
   "metadata": {},
   "outputs": [
    {
     "name": "stderr",
     "output_type": "stream",
     "text": [
      "D:\\programming\\anaconda5.1.0\\lib\\site-packages\\ipykernel_launcher.py:1: SettingWithCopyWarning: \n",
      "A value is trying to be set on a copy of a slice from a DataFrame.\n",
      "Try using .loc[row_indexer,col_indexer] = value instead\n",
      "\n",
      "See the caveats in the documentation: http://pandas.pydata.org/pandas-docs/stable/indexing.html#indexing-view-versus-copy\n",
      "  \"\"\"Entry point for launching an IPython kernel.\n"
     ]
    }
   ],
   "source": [
    "df_test['actual_rating'] = df_test['stars']"
   ]
  },
  {
   "cell_type": "code",
   "execution_count": 128,
   "metadata": {},
   "outputs": [
    {
     "name": "stdout",
     "output_type": "stream",
     "text": [
      "mean rating in the data  3.7442665087999614\n",
      "test set shape  (264865, 5)\n"
     ]
    },
    {
     "data": {
      "text/plain": [
       "(264865,)"
      ]
     },
     "execution_count": 128,
     "metadata": {},
     "output_type": "execute_result"
    }
   ],
   "source": [
    "print('mean rating in the data ',mu)\n",
    "print('test set shape ',df_test.shape)\n",
    "predictions = model.predict([df_test.user_idx.values, df_test.rest_idx.values])\n",
    "predictions = np.reshape(predictions,-1)\n",
    "predictions.shape\n",
    "# df_test['predicted_rating'] = df_test[['user_idx','rest_idx']]"
   ]
  },
  {
   "cell_type": "code",
   "execution_count": 129,
   "metadata": {},
   "outputs": [
    {
     "name": "stderr",
     "output_type": "stream",
     "text": [
      "D:\\programming\\anaconda5.1.0\\lib\\site-packages\\ipykernel_launcher.py:1: SettingWithCopyWarning: \n",
      "A value is trying to be set on a copy of a slice from a DataFrame.\n",
      "Try using .loc[row_indexer,col_indexer] = value instead\n",
      "\n",
      "See the caveats in the documentation: http://pandas.pydata.org/pandas-docs/stable/indexing.html#indexing-view-versus-copy\n",
      "  \"\"\"Entry point for launching an IPython kernel.\n"
     ]
    }
   ],
   "source": [
    "df_test['predict_rating'] = predictions+mu"
   ]
  },
  {
   "cell_type": "code",
   "execution_count": 130,
   "metadata": {},
   "outputs": [
    {
     "data": {
      "text/html": [
       "<div>\n",
       "<style scoped>\n",
       "    .dataframe tbody tr th:only-of-type {\n",
       "        vertical-align: middle;\n",
       "    }\n",
       "\n",
       "    .dataframe tbody tr th {\n",
       "        vertical-align: top;\n",
       "    }\n",
       "\n",
       "    .dataframe thead th {\n",
       "        text-align: right;\n",
       "    }\n",
       "</style>\n",
       "<table border=\"1\" class=\"dataframe\">\n",
       "  <thead>\n",
       "    <tr style=\"text-align: right;\">\n",
       "      <th></th>\n",
       "      <th>rest_idx</th>\n",
       "      <th>user_idx</th>\n",
       "      <th>stars</th>\n",
       "      <th>actual_rating</th>\n",
       "      <th>predict_rating</th>\n",
       "    </tr>\n",
       "  </thead>\n",
       "  <tbody>\n",
       "    <tr>\n",
       "      <th>312993</th>\n",
       "      <td>16483</td>\n",
       "      <td>529585</td>\n",
       "      <td>4.0</td>\n",
       "      <td>4.0</td>\n",
       "      <td>3.784295</td>\n",
       "    </tr>\n",
       "    <tr>\n",
       "      <th>835361</th>\n",
       "      <td>10695</td>\n",
       "      <td>385761</td>\n",
       "      <td>4.0</td>\n",
       "      <td>4.0</td>\n",
       "      <td>4.070486</td>\n",
       "    </tr>\n",
       "    <tr>\n",
       "      <th>266034</th>\n",
       "      <td>4716</td>\n",
       "      <td>317906</td>\n",
       "      <td>4.0</td>\n",
       "      <td>4.0</td>\n",
       "      <td>4.626999</td>\n",
       "    </tr>\n",
       "    <tr>\n",
       "      <th>437228</th>\n",
       "      <td>15604</td>\n",
       "      <td>378340</td>\n",
       "      <td>5.0</td>\n",
       "      <td>5.0</td>\n",
       "      <td>3.015857</td>\n",
       "    </tr>\n",
       "    <tr>\n",
       "      <th>930647</th>\n",
       "      <td>18586</td>\n",
       "      <td>151663</td>\n",
       "      <td>5.0</td>\n",
       "      <td>5.0</td>\n",
       "      <td>4.012570</td>\n",
       "    </tr>\n",
       "  </tbody>\n",
       "</table>\n",
       "</div>"
      ],
      "text/plain": [
       "        rest_idx  user_idx  stars  actual_rating  predict_rating\n",
       "312993     16483    529585    4.0            4.0        3.784295\n",
       "835361     10695    385761    4.0            4.0        4.070486\n",
       "266034      4716    317906    4.0            4.0        4.626999\n",
       "437228     15604    378340    5.0            5.0        3.015857\n",
       "930647     18586    151663    5.0            5.0        4.012570"
      ]
     },
     "execution_count": 130,
     "metadata": {},
     "output_type": "execute_result"
    }
   ],
   "source": [
    "df_test.head()"
   ]
  },
  {
   "cell_type": "code",
   "execution_count": 185,
   "metadata": {},
   "outputs": [],
   "source": [
    "topK = 5\n",
    "threshold_avg = 3.0\n",
    "def getAvgPrecAtK(actual_list, pred_list, topK=topK):\n",
    "    user_mean_rating = threshold_avg #np.mean(actual_list) #mu \n",
    "    act_perd_list = list(zip(actual_list, pred_list))\n",
    "    relev_list = [rate for rate in act_perd_list if rate[0] >= user_mean_rating]\n",
    "    \n",
    "    if len(relev_list) > topK:\n",
    "        relev_list = relev_list[:topK]\n",
    "        \n",
    "    if len(relev_list) == 0:\n",
    "        return 0.0\n",
    "        \n",
    "    score = 0.0\n",
    "    num_hits = 0.0\n",
    "    for i,(actual_rate, pred_rate) in enumerate(relev_list):\n",
    "        if pred_rate >= user_mean_rating :\n",
    "            num_hits = num_hits + 1.0\n",
    "            score = score + (num_hits/(i+1.0))\n",
    "    \n",
    "    avgPrec = score/min(len(relev_list),topK)\n",
    "    return avgPrec\n",
    "   \n",
    "def getAvgRecallAtK(actual_list, pred_list, topK=topK):\n",
    "    pass"
   ]
  },
  {
   "cell_type": "code",
   "execution_count": 186,
   "metadata": {},
   "outputs": [
    {
     "data": {
      "text/plain": [
       "1.000000    128423\n",
       "0.000000     40703\n",
       "0.500000      1860\n",
       "0.666667       760\n",
       "0.750000       466\n",
       "0.800000       389\n",
       "0.333333       127\n",
       "0.600000       115\n",
       "0.400000        49\n",
       "0.250000        18\n",
       "0.200000        13\n",
       "Name: avgprecision, dtype: int64"
      ]
     },
     "execution_count": 186,
     "metadata": {},
     "output_type": "execute_result"
    }
   ],
   "source": [
    "grped_data = df_test.sort_values(['user_idx','predict_rating'],ascending=False)\\\n",
    "                    .groupby(['user_idx'])\\\n",
    "                    .apply(lambda x : getAvgPrecAtK(x['actual_rating'],x['predict_rating']))\\\n",
    "                    .reset_index()\n",
    "grped_data.columns = ['user_idx','avgprecision']\n",
    "grped_data.avgprecision.value_counts()"
   ]
  },
  {
   "cell_type": "code",
   "execution_count": 187,
   "metadata": {},
   "outputs": [
    {
     "data": {
      "text/plain": [
       "0.755587168855515"
      ]
     },
     "execution_count": 187,
     "metadata": {},
     "output_type": "execute_result"
    }
   ],
   "source": [
    "np.mean(grped_data.avgprecision)"
   ]
  },
  {
   "cell_type": "code",
   "execution_count": 194,
   "metadata": {},
   "outputs": [
    {
     "name": "stdout",
     "output_type": "stream",
     "text": [
      "        rest_idx  user_idx  stars  actual_rating  predict_rating\n",
      "835361     10695    385761    4.0            4.0        4.070486\n",
      "462380     10263    385761    2.0            2.0        3.916476\n",
      "626733     15240    385761    2.0            2.0        3.745585\n",
      "383089      2323    385761    3.0            3.0        3.811742\n",
      "860997     13210    385761    3.0            3.0        4.126993\n",
      "742976     18509    385761    4.0            4.0        4.259332\n"
     ]
    },
    {
     "data": {
      "text/plain": [
       "(264865,)"
      ]
     },
     "execution_count": 194,
     "metadata": {},
     "output_type": "execute_result"
    }
   ],
   "source": [
    "print(df_test[df_test.user_idx == 385761])\n",
    "\n",
    "all_rests = df_test.rest_idx.values\n",
    "use_array = [385761 for each in all_rests]\n",
    "\n",
    "pred_rates = model.predict([use_array, all_rests])\n",
    "pred_rates = np.array(np.reshape(pred_rates,-1))\n",
    "pred_rates.shape"
   ]
  },
  {
   "cell_type": "code",
   "execution_count": 210,
   "metadata": {},
   "outputs": [],
   "source": [
    "args_val = (-pred_rates).argsort()[:40]"
   ]
  },
  {
   "cell_type": "code",
   "execution_count": 211,
   "metadata": {},
   "outputs": [
    {
     "name": "stdout",
     "output_type": "stream",
     "text": [
      "rest_idx 28518 and predicted rating 4.894116758090428\n",
      "rest_idx 108206 and predicted rating 4.894116758090428\n",
      "rest_idx 102941 and predicted rating 4.894116758090428\n",
      "rest_idx 260731 and predicted rating 4.894116758090428\n",
      "rest_idx 83154 and predicted rating 4.894116758090428\n",
      "rest_idx 16726 and predicted rating 4.894116758090428\n",
      "rest_idx 29459 and predicted rating 4.894116758090428\n",
      "rest_idx 65793 and predicted rating 4.894116758090428\n",
      "rest_idx 65728 and predicted rating 4.894116758090428\n",
      "rest_idx 190980 and predicted rating 4.894116758090428\n",
      "rest_idx 23485 and predicted rating 4.894116758090428\n",
      "rest_idx 221942 and predicted rating 4.894116758090428\n",
      "rest_idx 167225 and predicted rating 4.894116758090428\n",
      "rest_idx 195198 and predicted rating 4.894116758090428\n",
      "rest_idx 195161 and predicted rating 4.894116758090428\n",
      "rest_idx 211549 and predicted rating 4.894116758090428\n",
      "rest_idx 44744 and predicted rating 4.894116758090428\n",
      "rest_idx 173629 and predicted rating 4.894116758090428\n",
      "rest_idx 139566 and predicted rating 4.894116758090428\n",
      "rest_idx 7597 and predicted rating 4.894116758090428\n",
      "rest_idx 19639 and predicted rating 4.894116758090428\n",
      "rest_idx 6108 and predicted rating 4.894116758090428\n",
      "rest_idx 248465 and predicted rating 4.894116758090428\n",
      "rest_idx 74091 and predicted rating 4.894116758090428\n",
      "rest_idx 182833 and predicted rating 4.894116758090428\n",
      "rest_idx 74070 and predicted rating 4.894116758090428\n",
      "rest_idx 203161 and predicted rating 4.894116758090428\n",
      "rest_idx 54694 and predicted rating 4.894116758090428\n",
      "rest_idx 220944 and predicted rating 4.894116758090428\n",
      "rest_idx 3361 and predicted rating 4.894116758090428\n",
      "rest_idx 176123 and predicted rating 4.894116758090428\n",
      "rest_idx 127833 and predicted rating 4.894116758090428\n",
      "rest_idx 174376 and predicted rating 4.894116758090428\n",
      "rest_idx 253501 and predicted rating 4.894116758090428\n",
      "rest_idx 68185 and predicted rating 4.894116758090428\n",
      "rest_idx 67686 and predicted rating 4.894116758090428\n",
      "rest_idx 197865 and predicted rating 4.894116758090428\n",
      "rest_idx 41966 and predicted rating 4.894116758090428\n",
      "rest_idx 76009 and predicted rating 4.894116758090428\n",
      "rest_idx 54093 and predicted rating 4.894116758090428\n"
     ]
    }
   ],
   "source": [
    "for each in args_val:\n",
    "    print('rest_idx {} and predicted rating {}'.format(each,pred_rates[each]+mu))"
   ]
  },
  {
   "cell_type": "markdown",
   "metadata": {},
   "source": [
    "### nDCG validation"
   ]
  },
  {
   "cell_type": "code",
   "execution_count": null,
   "metadata": {},
   "outputs": [],
   "source": [
    "def nDCG()"
   ]
  },
  {
   "cell_type": "markdown",
   "metadata": {},
   "source": [
    "## End of basic recommendation systems building"
   ]
  },
  {
   "cell_type": "code",
   "execution_count": 3,
   "metadata": {},
   "outputs": [
    {
     "data": {
      "text/plain": [
       "array([0., 0., 0., 0., 0., 0., 0., 0., 0., 0., 0., 0., 0., 0., 0., 0., 0.,\n",
       "       0., 0., 0., 0., 0., 0., 0., 0., 0., 0., 0., 0., 0., 0., 0., 0., 0.,\n",
       "       0., 0., 0., 0., 0., 0., 0., 0., 0., 0., 0., 0., 0., 0., 0., 0.])"
      ]
     },
     "execution_count": 3,
     "metadata": {},
     "output_type": "execute_result"
    }
   ],
   "source": [
    "np.zeros(50)"
   ]
  }
 ],
 "metadata": {
  "kernelspec": {
   "display_name": "Python 3",
   "language": "python",
   "name": "python3"
  },
  "language_info": {
   "codemirror_mode": {
    "name": "ipython",
    "version": 3
   },
   "file_extension": ".py",
   "mimetype": "text/x-python",
   "name": "python",
   "nbconvert_exporter": "python",
   "pygments_lexer": "ipython3",
   "version": "3.7.4"
  }
 },
 "nbformat": 4,
 "nbformat_minor": 2
}
