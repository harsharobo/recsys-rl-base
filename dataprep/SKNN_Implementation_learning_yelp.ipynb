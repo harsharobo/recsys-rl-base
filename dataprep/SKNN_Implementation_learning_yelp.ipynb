{
 "cells": [
  {
   "cell_type": "code",
   "execution_count": 3,
   "metadata": {},
   "outputs": [],
   "source": [
    "import numpy as np\n",
    "import pandas as pd\n",
    "import matplotlib.pyplot as plt\n",
    "from sklearn.utils import shuffle\n",
    "from tqdm import tqdm"
   ]
  },
  {
   "cell_type": "code",
   "execution_count": 4,
   "metadata": {},
   "outputs": [
    {
     "data": {
      "text/plain": [
       "True"
      ]
     },
     "execution_count": 4,
     "metadata": {},
     "output_type": "execute_result"
    }
   ],
   "source": [
    "a1 = np.array([[1.0,2.0,3.0],[4.0,5.0,6.0]])\n",
    "a2 = np.array([[1.0,2.0,3.0],[4.0,5.0,6.0]])\n",
    "\n",
    "np.array_equal(a1, a2)"
   ]
  },
  {
   "cell_type": "code",
   "execution_count": 5,
   "metadata": {},
   "outputs": [],
   "source": [
    "BASE_PATH = 'D:/Learning/LJMU-masters/recommender_system/workspace/rest_procssed_data/'\n",
    "review_file = BASE_PATH+'filt_rest_review_data.tar.gz'\n",
    "restaurant_feat_file = BASE_PATH+'rest_context_feat.csv'\n",
    "rest_emd_path = BASE_PATH+'restaurant_context_embeddings.csv'\n",
    "\n",
    "SEED = 133610\n",
    "K=5"
   ]
  },
  {
   "cell_type": "code",
   "execution_count": 6,
   "metadata": {},
   "outputs": [
    {
     "name": "stdout",
     "output_type": "stream",
     "text": [
      "['business_id' 'stars' 'date' 'user_id']\n",
      "(1324324, 4)\n"
     ]
    },
    {
     "data": {
      "text/html": [
       "<div>\n",
       "<style scoped>\n",
       "    .dataframe tbody tr th:only-of-type {\n",
       "        vertical-align: middle;\n",
       "    }\n",
       "\n",
       "    .dataframe tbody tr th {\n",
       "        vertical-align: top;\n",
       "    }\n",
       "\n",
       "    .dataframe thead th {\n",
       "        text-align: right;\n",
       "    }\n",
       "</style>\n",
       "<table border=\"1\" class=\"dataframe\">\n",
       "  <thead>\n",
       "    <tr style=\"text-align: right;\">\n",
       "      <th></th>\n",
       "      <th>business_id</th>\n",
       "      <th>stars</th>\n",
       "      <th>date</th>\n",
       "      <th>user_id</th>\n",
       "    </tr>\n",
       "  </thead>\n",
       "  <tbody>\n",
       "    <tr>\n",
       "      <th>0</th>\n",
       "      <td>3fw2X5bZYeW9xCz_zGhOHg</td>\n",
       "      <td>3.0</td>\n",
       "      <td>2016-05-07 01:21:02</td>\n",
       "      <td>jlu4CztcSxrKx56ba1a5AQ</td>\n",
       "    </tr>\n",
       "    <tr>\n",
       "      <th>1</th>\n",
       "      <td>NyLYY8q1-H3hfsTwuwLPCg</td>\n",
       "      <td>4.0</td>\n",
       "      <td>2015-01-03 22:47:34</td>\n",
       "      <td>86J5DwcFk4f4In1Vxe2TvA</td>\n",
       "    </tr>\n",
       "    <tr>\n",
       "      <th>2</th>\n",
       "      <td>y-Iw6dZflNix4BdwIyTNGA</td>\n",
       "      <td>3.0</td>\n",
       "      <td>2014-06-27 21:19:23</td>\n",
       "      <td>_N7Ndn29bpll_961oPeEfw</td>\n",
       "    </tr>\n",
       "    <tr>\n",
       "      <th>3</th>\n",
       "      <td>qx6WhZ42eDKmBchZDax4dQ</td>\n",
       "      <td>5.0</td>\n",
       "      <td>2017-03-27 01:14:37</td>\n",
       "      <td>DzZ7piLBF-WsJxqosfJgtA</td>\n",
       "    </tr>\n",
       "    <tr>\n",
       "      <th>4</th>\n",
       "      <td>9nTF596jDvBBia2EXXiOOg</td>\n",
       "      <td>1.0</td>\n",
       "      <td>2014-04-19 15:03:17</td>\n",
       "      <td>q3GeSW9dWN9r_ocqFkhrvg</td>\n",
       "    </tr>\n",
       "  </tbody>\n",
       "</table>\n",
       "</div>"
      ],
      "text/plain": [
       "              business_id  stars                 date                 user_id\n",
       "0  3fw2X5bZYeW9xCz_zGhOHg    3.0  2016-05-07 01:21:02  jlu4CztcSxrKx56ba1a5AQ\n",
       "1  NyLYY8q1-H3hfsTwuwLPCg    4.0  2015-01-03 22:47:34  86J5DwcFk4f4In1Vxe2TvA\n",
       "2  y-Iw6dZflNix4BdwIyTNGA    3.0  2014-06-27 21:19:23  _N7Ndn29bpll_961oPeEfw\n",
       "3  qx6WhZ42eDKmBchZDax4dQ    5.0  2017-03-27 01:14:37  DzZ7piLBF-WsJxqosfJgtA\n",
       "4  9nTF596jDvBBia2EXXiOOg    1.0  2014-04-19 15:03:17  q3GeSW9dWN9r_ocqFkhrvg"
      ]
     },
     "execution_count": 6,
     "metadata": {},
     "output_type": "execute_result"
    }
   ],
   "source": [
    "rest_reviews_df = pd.read_csv(review_file)\n",
    "print(rest_reviews_df.columns.values)\n",
    "print(rest_reviews_df.shape)\n",
    "rest_reviews_df.head()"
   ]
  },
  {
   "cell_type": "code",
   "execution_count": 7,
   "metadata": {},
   "outputs": [
    {
     "data": {
      "image/png": "[encoded data removed]",
      "text/plain": [
       "<matplotlib.figure.Figure at 0x1fc186aa128>"
      ]
     },
     "metadata": {},
     "output_type": "display_data"
    }
   ],
   "source": [
    "count_reviews_by_user = rest_reviews_df.groupby(['user_id'])['date'].count().reset_index()\n",
    "count_reviews_by_user.columns = ['user_id','review_count']\n",
    "fig, ax = plt.subplots()\n",
    "count_reviews_by_user.review_count.hist(ax=ax,bins=250, bottom=0.1)\n",
    "ax.set_yscale('log')\n",
    "plt.ylabel('log of count')\n",
    "plt.xlabel('user id')\n",
    "plt.show()"
   ]
  },
  {
   "cell_type": "markdown",
   "metadata": {},
   "source": [
    "## Create Train and Test split"
   ]
  },
  {
   "cell_type": "code",
   "execution_count": 8,
   "metadata": {},
   "outputs": [
    {
     "name": "stdout",
     "output_type": "stream",
     "text": [
      "15662\n",
      "12529\n",
      "3133\n"
     ]
    }
   ],
   "source": [
    "users_list = count_reviews_by_user[(count_reviews_by_user.review_count > 10) & (count_reviews_by_user.review_count <= 300)].user_id\n",
    "print(len(users_list))\n",
    "shuffled_user_list = shuffle(users_list, random_state=SEED)\n",
    "cutoff = int(0.8*len(shuffled_user_list))\n",
    "train_users = shuffled_user_list[:cutoff]\n",
    "test_users = shuffled_user_list[cutoff:]\n",
    "\n",
    "print(len(train_users))\n",
    "print(len(test_users))"
   ]
  },
  {
   "cell_type": "code",
   "execution_count": 9,
   "metadata": {},
   "outputs": [
    {
     "data": {
      "text/plain": [
       "(372169, 4)"
      ]
     },
     "execution_count": 9,
     "metadata": {},
     "output_type": "execute_result"
    }
   ],
   "source": [
    "# rest_reviews_df = rest_reviews_df[rest_reviews_df.stars >= 3.0]\n",
    "rest_reviews_df = rest_reviews_df[rest_reviews_df.user_id.isin(users_list)]\n",
    "rest_reviews_df.shape"
   ]
  },
  {
   "cell_type": "code",
   "execution_count": 13,
   "metadata": {},
   "outputs": [
    {
     "name": "stdout",
     "output_type": "stream",
     "text": [
      "(372169, 4)\n"
     ]
    },
    {
     "data": {
      "text/html": [
       "<div>\n",
       "<style scoped>\n",
       "    .dataframe tbody tr th:only-of-type {\n",
       "        vertical-align: middle;\n",
       "    }\n",
       "\n",
       "    .dataframe tbody tr th {\n",
       "        vertical-align: top;\n",
       "    }\n",
       "\n",
       "    .dataframe thead th {\n",
       "        text-align: right;\n",
       "    }\n",
       "</style>\n",
       "<table border=\"1\" class=\"dataframe\">\n",
       "  <thead>\n",
       "    <tr style=\"text-align: right;\">\n",
       "      <th></th>\n",
       "      <th>business_id</th>\n",
       "      <th>stars</th>\n",
       "      <th>date</th>\n",
       "      <th>user_id</th>\n",
       "    </tr>\n",
       "  </thead>\n",
       "  <tbody>\n",
       "    <tr>\n",
       "      <th>848393</th>\n",
       "      <td>ifEHr-ZnGFSKgJVsywiAFg</td>\n",
       "      <td>5.0</td>\n",
       "      <td>2009-01-16 21:49:36</td>\n",
       "      <td>---1lKK3aKOuomHnwAkAow</td>\n",
       "    </tr>\n",
       "    <tr>\n",
       "      <th>150004</th>\n",
       "      <td>rq5dgoksPHkJwJNQKlGQ7w</td>\n",
       "      <td>5.0</td>\n",
       "      <td>2010-10-16 23:31:28</td>\n",
       "      <td>---1lKK3aKOuomHnwAkAow</td>\n",
       "    </tr>\n",
       "    <tr>\n",
       "      <th>782885</th>\n",
       "      <td>ow5ku7hfMqU94mylTd3WlQ</td>\n",
       "      <td>5.0</td>\n",
       "      <td>2010-11-09 20:24:31</td>\n",
       "      <td>---1lKK3aKOuomHnwAkAow</td>\n",
       "    </tr>\n",
       "    <tr>\n",
       "      <th>876783</th>\n",
       "      <td>iPM85PQMs7QoAxw-Og9ChQ</td>\n",
       "      <td>3.0</td>\n",
       "      <td>2010-11-16 03:15:16</td>\n",
       "      <td>---1lKK3aKOuomHnwAkAow</td>\n",
       "    </tr>\n",
       "    <tr>\n",
       "      <th>862425</th>\n",
       "      <td>ifEHr-ZnGFSKgJVsywiAFg</td>\n",
       "      <td>2.0</td>\n",
       "      <td>2010-11-16 03:23:07</td>\n",
       "      <td>---1lKK3aKOuomHnwAkAow</td>\n",
       "    </tr>\n",
       "  </tbody>\n",
       "</table>\n",
       "</div>"
      ],
      "text/plain": [
       "                   business_id  stars                 date  \\\n",
       "848393  ifEHr-ZnGFSKgJVsywiAFg    5.0  2009-01-16 21:49:36   \n",
       "150004  rq5dgoksPHkJwJNQKlGQ7w    5.0  2010-10-16 23:31:28   \n",
       "782885  ow5ku7hfMqU94mylTd3WlQ    5.0  2010-11-09 20:24:31   \n",
       "876783  iPM85PQMs7QoAxw-Og9ChQ    3.0  2010-11-16 03:15:16   \n",
       "862425  ifEHr-ZnGFSKgJVsywiAFg    2.0  2010-11-16 03:23:07   \n",
       "\n",
       "                       user_id  \n",
       "848393  ---1lKK3aKOuomHnwAkAow  \n",
       "150004  ---1lKK3aKOuomHnwAkAow  \n",
       "782885  ---1lKK3aKOuomHnwAkAow  \n",
       "876783  ---1lKK3aKOuomHnwAkAow  \n",
       "862425  ---1lKK3aKOuomHnwAkAow  "
      ]
     },
     "execution_count": 13,
     "metadata": {},
     "output_type": "execute_result"
    }
   ],
   "source": [
    "sorted_df = rest_reviews_df.sort_values(['user_id','date'])\n",
    "print(sorted_df.shape)\n",
    "sorted_df.head()"
   ]
  },
  {
   "cell_type": "code",
   "execution_count": 14,
   "metadata": {},
   "outputs": [],
   "source": [
    "temp_df = sorted_df.loc[sorted_df.user_id == '---1lKK3aKOuomHnwAkAow']\n",
    "user_grp_df = sorted_df.groupby(['user_id'])\n",
    "window_size = 5"
   ]
  },
  {
   "cell_type": "code",
   "execution_count": 10,
   "metadata": {},
   "outputs": [],
   "source": [
    "# user_grp_df.head()"
   ]
  },
  {
   "cell_type": "code",
   "execution_count": 12,
   "metadata": {
    "collapsed": true
   },
   "outputs": [
    {
     "name": "stderr",
     "output_type": "stream",
     "text": [
      "  1%|▋                                                                                                                                  | 84/15662 [00:02<06:58, 37.25it/s]\n"
     ]
    },
    {
     "ename": "KeyboardInterrupt",
     "evalue": "",
     "output_type": "error",
     "traceback": [
      "\u001b[1;31m---------------------------------------------------------------------------\u001b[0m",
      "\u001b[1;31mKeyboardInterrupt\u001b[0m                         Traceback (most recent call last)",
      "\u001b[1;32m<ipython-input-12-3cfd62095a0c>\u001b[0m in \u001b[0;36m<module>\u001b[1;34m()\u001b[0m\n\u001b[0;32m      6\u001b[0m         \u001b[0mspace\u001b[0m \u001b[1;33m=\u001b[0m \u001b[0mlist\u001b[0m\u001b[1;33m(\u001b[0m\u001b[0mdf\u001b[0m\u001b[1;33m.\u001b[0m\u001b[0mbusiness_id\u001b[0m\u001b[1;33m.\u001b[0m\u001b[0munique\u001b[0m\u001b[1;33m(\u001b[0m\u001b[1;33m)\u001b[0m\u001b[1;33m)\u001b[0m\u001b[1;33m\u001b[0m\u001b[0m\n\u001b[0;32m      7\u001b[0m         \u001b[0mstate\u001b[0m \u001b[1;33m=\u001b[0m \u001b[0mlist\u001b[0m\u001b[1;33m(\u001b[0m\u001b[1;33m[\u001b[0m\u001b[0mstr\u001b[0m\u001b[1;33m(\u001b[0m\u001b[0mval\u001b[0m\u001b[1;33m)\u001b[0m \u001b[1;32mfor\u001b[0m \u001b[0mval\u001b[0m \u001b[1;32min\u001b[0m \u001b[0mnp\u001b[0m\u001b[1;33m.\u001b[0m\u001b[0mrandom\u001b[0m\u001b[1;33m.\u001b[0m\u001b[0mchoice\u001b[0m\u001b[1;33m(\u001b[0m\u001b[0mspace\u001b[0m\u001b[1;33m,\u001b[0m \u001b[0msize\u001b[0m\u001b[1;33m=\u001b[0m\u001b[0mwindow_size\u001b[0m\u001b[1;33m)\u001b[0m\u001b[1;33m]\u001b[0m\u001b[1;33m)\u001b[0m\u001b[1;33m\u001b[0m\u001b[0m\n\u001b[1;32m----> 8\u001b[1;33m         \u001b[0mfuture_actions\u001b[0m \u001b[1;33m=\u001b[0m \u001b[0mlist\u001b[0m\u001b[1;33m(\u001b[0m\u001b[0mnp\u001b[0m\u001b[1;33m.\u001b[0m\u001b[0mrandom\u001b[0m\u001b[1;33m.\u001b[0m\u001b[0mchoice\u001b[0m\u001b[1;33m(\u001b[0m\u001b[0mspace\u001b[0m\u001b[1;33m,\u001b[0m \u001b[0msize\u001b[0m\u001b[1;33m=\u001b[0m\u001b[1;36m2\u001b[0m\u001b[1;33m)\u001b[0m\u001b[1;33m)\u001b[0m\u001b[1;33m\u001b[0m\u001b[0m\n\u001b[0m\u001b[0;32m      9\u001b[0m \u001b[1;33m\u001b[0m\u001b[0m\n\u001b[0;32m     10\u001b[0m         \u001b[0maction\u001b[0m \u001b[1;33m=\u001b[0m \u001b[0mstr\u001b[0m\u001b[1;33m(\u001b[0m\u001b[0mfuture_actions\u001b[0m\u001b[1;33m[\u001b[0m\u001b[1;36m0\u001b[0m\u001b[1;33m]\u001b[0m\u001b[1;33m)\u001b[0m\u001b[1;33m\u001b[0m\u001b[0m\n",
      "\u001b[1;31mKeyboardInterrupt\u001b[0m: "
     ]
    }
   ],
   "source": [
    "new_df = pd.DataFrame(columns=['state','action','reward','next_state','recall'])\n",
    "for user_id, df in tqdm(user_grp_df):\n",
    "    list_of_dicts = []\n",
    "    for i in range(df.shape[0]):\n",
    "        df_dict = {'state':[],'action':'','reward':0.0,'next_state':[],'recall':[]}\n",
    "        space = list(df.business_id.unique())\n",
    "        state = list([str(val) for val in np.random.choice(space, size=window_size)])\n",
    "        future_actions = list(np.random.choice(space, size=2))\n",
    "        \n",
    "        action = str(future_actions[0])\n",
    "        reward = float(df.loc[df.business_id == action].head(1).stars)\n",
    "        next_state = state.copy()\n",
    "        next_state.append(action)\n",
    "        next_state = next_state[1:]\n",
    "        df_dict['state'] = ','.join(state)\n",
    "        df_dict['action'] = action\n",
    "        df_dict['reward'] = reward\n",
    "        df_dict['next_state'] = ','.join(next_state)\n",
    "        df_dict['recall'] = ','.join(future_actions)\n",
    "#         print('state {} - action {} - reward {} - next_state {}'.format(df_dict['state'],df_dict['action'],df_dict['reward'],df_dict['next_state']))\n",
    "        list_of_dicts.append(df_dict)\n",
    "    new_df = new_df.append(list_of_dicts, ignore_index=False)\n",
    "        \n",
    "print(new_df.shape)\n",
    "new_df.head()"
   ]
  },
  {
   "cell_type": "code",
   "execution_count": 10,
   "metadata": {},
   "outputs": [],
   "source": [
    "new_df.to_csv(BASE_PATH+'dqn_offline_train_validation.csv',index=False)"
   ]
  },
  {
   "cell_type": "code",
   "execution_count": 10,
   "metadata": {},
   "outputs": [
    {
     "data": {
      "text/plain": [
       "array([[4, 5, 6],\n",
       "       [7, 8, 9],\n",
       "       [6, 3, 9]])"
      ]
     },
     "execution_count": 10,
     "metadata": {},
     "output_type": "execute_result"
    }
   ],
   "source": [
    "dd = np.asarray([1,2,3,4,5,6,7,8,9])\n",
    "dd = dd.reshape(3,3)\n",
    "a = np.array([6,3,9])[np.newaxis,:]\n",
    "dd = np.append(dd, a, axis=0)\n",
    "dd[1:]"
   ]
  },
  {
   "cell_type": "markdown",
   "metadata": {},
   "source": [
    "## Testing the RL simulation fucntions"
   ]
  },
  {
   "cell_type": "code",
   "execution_count": 15,
   "metadata": {},
   "outputs": [
    {
     "name": "stdout",
     "output_type": "stream",
     "text": [
      "(19590, 11)\n"
     ]
    },
    {
     "data": {
      "text/html": [
       "<div>\n",
       "<style scoped>\n",
       "    .dataframe tbody tr th:only-of-type {\n",
       "        vertical-align: middle;\n",
       "    }\n",
       "\n",
       "    .dataframe tbody tr th {\n",
       "        vertical-align: top;\n",
       "    }\n",
       "\n",
       "    .dataframe thead th {\n",
       "        text-align: right;\n",
       "    }\n",
       "</style>\n",
       "<table border=\"1\" class=\"dataframe\">\n",
       "  <thead>\n",
       "    <tr style=\"text-align: right;\">\n",
       "      <th></th>\n",
       "      <th>0</th>\n",
       "      <th>1</th>\n",
       "      <th>2</th>\n",
       "      <th>3</th>\n",
       "      <th>4</th>\n",
       "      <th>5</th>\n",
       "      <th>6</th>\n",
       "      <th>7</th>\n",
       "      <th>8</th>\n",
       "      <th>9</th>\n",
       "    </tr>\n",
       "    <tr>\n",
       "      <th>business_id</th>\n",
       "      <th></th>\n",
       "      <th></th>\n",
       "      <th></th>\n",
       "      <th></th>\n",
       "      <th></th>\n",
       "      <th></th>\n",
       "      <th></th>\n",
       "      <th></th>\n",
       "      <th></th>\n",
       "      <th></th>\n",
       "    </tr>\n",
       "  </thead>\n",
       "  <tbody>\n",
       "    <tr>\n",
       "      <th>QXAEGFB4oINsVuTFxEYKFQ</th>\n",
       "      <td>4.411848</td>\n",
       "      <td>4.738783</td>\n",
       "      <td>9.329696</td>\n",
       "      <td>13.222891</td>\n",
       "      <td>1.758909</td>\n",
       "      <td>4.306650</td>\n",
       "      <td>5.077082</td>\n",
       "      <td>0.568810</td>\n",
       "      <td>0.000000</td>\n",
       "      <td>6.865017</td>\n",
       "    </tr>\n",
       "    <tr>\n",
       "      <th>1Dfx3zM-rW4n-31KeC8sJg</th>\n",
       "      <td>2.127881</td>\n",
       "      <td>4.583820</td>\n",
       "      <td>8.213978</td>\n",
       "      <td>2.470980</td>\n",
       "      <td>3.485499</td>\n",
       "      <td>4.024044</td>\n",
       "      <td>3.452238</td>\n",
       "      <td>6.611355</td>\n",
       "      <td>0.600296</td>\n",
       "      <td>2.409309</td>\n",
       "    </tr>\n",
       "    <tr>\n",
       "      <th>1RHY4K3BD22FK7Cfftn8Mg</th>\n",
       "      <td>4.881931</td>\n",
       "      <td>0.234610</td>\n",
       "      <td>0.276599</td>\n",
       "      <td>6.049745</td>\n",
       "      <td>6.167278</td>\n",
       "      <td>2.428050</td>\n",
       "      <td>4.997796</td>\n",
       "      <td>6.372932</td>\n",
       "      <td>3.795377</td>\n",
       "      <td>3.091788</td>\n",
       "    </tr>\n",
       "    <tr>\n",
       "      <th>tstimHoMcYbkSC4eBA1wEg</th>\n",
       "      <td>3.093885</td>\n",
       "      <td>3.616591</td>\n",
       "      <td>2.917479</td>\n",
       "      <td>3.739008</td>\n",
       "      <td>9.100592</td>\n",
       "      <td>3.093930</td>\n",
       "      <td>5.404335</td>\n",
       "      <td>0.905019</td>\n",
       "      <td>0.892846</td>\n",
       "      <td>6.373060</td>\n",
       "    </tr>\n",
       "    <tr>\n",
       "      <th>NDuUMJfrWk52RA-H-OtrpA</th>\n",
       "      <td>5.673331</td>\n",
       "      <td>4.015204</td>\n",
       "      <td>7.196591</td>\n",
       "      <td>7.836281</td>\n",
       "      <td>1.073583</td>\n",
       "      <td>2.293062</td>\n",
       "      <td>1.579514</td>\n",
       "      <td>6.271926</td>\n",
       "      <td>2.804626</td>\n",
       "      <td>3.172067</td>\n",
       "    </tr>\n",
       "  </tbody>\n",
       "</table>\n",
       "</div>"
      ],
      "text/plain": [
       "                               0         1         2          3         4  \\\n",
       "business_id                                                                 \n",
       "QXAEGFB4oINsVuTFxEYKFQ  4.411848  4.738783  9.329696  13.222891  1.758909   \n",
       "1Dfx3zM-rW4n-31KeC8sJg  2.127881  4.583820  8.213978   2.470980  3.485499   \n",
       "1RHY4K3BD22FK7Cfftn8Mg  4.881931  0.234610  0.276599   6.049745  6.167278   \n",
       "tstimHoMcYbkSC4eBA1wEg  3.093885  3.616591  2.917479   3.739008  9.100592   \n",
       "NDuUMJfrWk52RA-H-OtrpA  5.673331  4.015204  7.196591   7.836281  1.073583   \n",
       "\n",
       "                               5         6         7         8         9  \n",
       "business_id                                                               \n",
       "QXAEGFB4oINsVuTFxEYKFQ  4.306650  5.077082  0.568810  0.000000  6.865017  \n",
       "1Dfx3zM-rW4n-31KeC8sJg  4.024044  3.452238  6.611355  0.600296  2.409309  \n",
       "1RHY4K3BD22FK7Cfftn8Mg  2.428050  4.997796  6.372932  3.795377  3.091788  \n",
       "tstimHoMcYbkSC4eBA1wEg  3.093930  5.404335  0.905019  0.892846  6.373060  \n",
       "NDuUMJfrWk52RA-H-OtrpA  2.293062  1.579514  6.271926  2.804626  3.172067  "
      ]
     },
     "execution_count": 15,
     "metadata": {},
     "output_type": "execute_result"
    }
   ],
   "source": [
    "rest_embedding_cdf = pd.read_csv(rest_emd_path)\n",
    "print(rest_embedding_cdf.shape)\n",
    "rest_embedding_cdf = rest_embedding_cdf.set_index('business_id')\n",
    "rest_embedding_cdf.head()"
   ]
  },
  {
   "cell_type": "code",
   "execution_count": 16,
   "metadata": {},
   "outputs": [
    {
     "data": {
      "text/plain": [
       "9.952936"
      ]
     },
     "execution_count": 16,
     "metadata": {},
     "output_type": "execute_result"
    }
   ],
   "source": [
    "rest_embedding_cdf['0'].max()"
   ]
  },
  {
   "cell_type": "code",
   "execution_count": 17,
   "metadata": {},
   "outputs": [
    {
     "data": {
      "text/plain": [
       "'4.4118485,4.738783,9.329696,13.222891,1.7589085999999998,4.3066497,5.0770817,0.5688105,0.0,6.8650174'"
      ]
     },
     "execution_count": 17,
     "metadata": {},
     "output_type": "execute_result"
    }
   ],
   "source": [
    "','.join([str(a) for a in rest_embedding_cdf.loc['QXAEGFB4oINsVuTFxEYKFQ'].tolist()])"
   ]
  },
  {
   "cell_type": "code",
   "execution_count": 18,
   "metadata": {},
   "outputs": [
    {
     "name": "stderr",
     "output_type": "stream",
     "text": [
      "\r",
      "  0%|                                                                                                                                                | 0/1 [00:00<?, ?it/s]"
     ]
    },
    {
     "name": "stdout",
     "output_type": "stream",
     "text": [
      "state 5, action 1, reward 4.0, next_state 5\n",
      "state 5, action 1, reward 4.0, next_state 5\n",
      "state 5, action 1, reward 5.0, next_state 5\n",
      "state 5, action 1, reward 5.0, next_state 5\n",
      "state 5, action 1, reward 2.0, next_state 5\n",
      "state 5, action 1, reward 5.0, next_state 5\n",
      "state 5, action 1, reward 4.0, next_state 5\n",
      "state 5, action 1, reward 5.0, next_state 5\n",
      "state 5, action 1, reward 5.0, next_state 5\n",
      "state 5, action 1, reward 5.0, next_state 5\n",
      "state 5, action 1, reward 1.0, next_state 5\n"
     ]
    },
    {
     "name": "stderr",
     "output_type": "stream",
     "text": [
      "100%|████████████████████████████████████████████████████████████████████████████████████████████████████████████████████████████████████████| 1/1 [00:00<00:00, 16.67it/s]\n"
     ]
    },
    {
     "name": "stdout",
     "output_type": "stream",
     "text": [
      "(11, 5)\n"
     ]
    },
    {
     "data": {
      "text/html": [
       "<div>\n",
       "<style scoped>\n",
       "    .dataframe tbody tr th:only-of-type {\n",
       "        vertical-align: middle;\n",
       "    }\n",
       "\n",
       "    .dataframe tbody tr th {\n",
       "        vertical-align: top;\n",
       "    }\n",
       "\n",
       "    .dataframe thead th {\n",
       "        text-align: right;\n",
       "    }\n",
       "</style>\n",
       "<table border=\"1\" class=\"dataframe\">\n",
       "  <thead>\n",
       "    <tr style=\"text-align: right;\">\n",
       "      <th></th>\n",
       "      <th>user_id</th>\n",
       "      <th>state</th>\n",
       "      <th>action</th>\n",
       "      <th>reward</th>\n",
       "      <th>next_state</th>\n",
       "    </tr>\n",
       "  </thead>\n",
       "  <tbody>\n",
       "    <tr>\n",
       "      <th>0</th>\n",
       "      <td>---1lKK3aKOuomHnwAkAow</td>\n",
       "      <td>5.105682|3.02343|1.1998029|2.6459227000000003|...</td>\n",
       "      <td>3.907493|3.9790266000000005|0.85891354|2.99556...</td>\n",
       "      <td>4.0</td>\n",
       "      <td>3.6259165|4.555624|1.7463031000000002|3.389558...</td>\n",
       "    </tr>\n",
       "    <tr>\n",
       "      <th>1</th>\n",
       "      <td>---1lKK3aKOuomHnwAkAow</td>\n",
       "      <td>3.6259165|4.555624|1.7463031000000002|3.389558...</td>\n",
       "      <td>2.1000068|5.064063|1.3642833|3.633889|7.801534...</td>\n",
       "      <td>4.0</td>\n",
       "      <td>5.943884400000001|2.053497|2.2759242000000004|...</td>\n",
       "    </tr>\n",
       "    <tr>\n",
       "      <th>2</th>\n",
       "      <td>---1lKK3aKOuomHnwAkAow</td>\n",
       "      <td>5.943884400000001|2.053497|2.2759242000000004|...</td>\n",
       "      <td>2.4830651|5.704142|0.17315382|4.15246960000000...</td>\n",
       "      <td>5.0</td>\n",
       "      <td>3.21387|4.1962743|2.4558017000000003|3.489384|...</td>\n",
       "    </tr>\n",
       "    <tr>\n",
       "      <th>3</th>\n",
       "      <td>---1lKK3aKOuomHnwAkAow</td>\n",
       "      <td>3.21387|4.1962743|2.4558017000000003|3.489384|...</td>\n",
       "      <td>1.5584882|4.790303700000001|0.621162|4.0098743...</td>\n",
       "      <td>5.0</td>\n",
       "      <td>5.105682|3.02343|1.1998029|2.6459227000000003|...</td>\n",
       "    </tr>\n",
       "    <tr>\n",
       "      <th>4</th>\n",
       "      <td>---1lKK3aKOuomHnwAkAow</td>\n",
       "      <td>5.105682|3.02343|1.1998029|2.6459227000000003|...</td>\n",
       "      <td>4.054323|6.1892065999999994|0.6355050999999999...</td>\n",
       "      <td>2.0</td>\n",
       "      <td>5.105682|3.02343|1.1998029|2.6459227000000003|...</td>\n",
       "    </tr>\n",
       "  </tbody>\n",
       "</table>\n",
       "</div>"
      ],
      "text/plain": [
       "                  user_id                                              state  \\\n",
       "0  ---1lKK3aKOuomHnwAkAow  5.105682|3.02343|1.1998029|2.6459227000000003|...   \n",
       "1  ---1lKK3aKOuomHnwAkAow  3.6259165|4.555624|1.7463031000000002|3.389558...   \n",
       "2  ---1lKK3aKOuomHnwAkAow  5.943884400000001|2.053497|2.2759242000000004|...   \n",
       "3  ---1lKK3aKOuomHnwAkAow  3.21387|4.1962743|2.4558017000000003|3.489384|...   \n",
       "4  ---1lKK3aKOuomHnwAkAow  5.105682|3.02343|1.1998029|2.6459227000000003|...   \n",
       "\n",
       "                                              action  reward  \\\n",
       "0  3.907493|3.9790266000000005|0.85891354|2.99556...     4.0   \n",
       "1  2.1000068|5.064063|1.3642833|3.633889|7.801534...     4.0   \n",
       "2  2.4830651|5.704142|0.17315382|4.15246960000000...     5.0   \n",
       "3  1.5584882|4.790303700000001|0.621162|4.0098743...     5.0   \n",
       "4  4.054323|6.1892065999999994|0.6355050999999999...     2.0   \n",
       "\n",
       "                                          next_state  \n",
       "0  3.6259165|4.555624|1.7463031000000002|3.389558...  \n",
       "1  5.943884400000001|2.053497|2.2759242000000004|...  \n",
       "2  3.21387|4.1962743|2.4558017000000003|3.489384|...  \n",
       "3  5.105682|3.02343|1.1998029|2.6459227000000003|...  \n",
       "4  5.105682|3.02343|1.1998029|2.6459227000000003|...  "
      ]
     },
     "execution_count": 18,
     "metadata": {},
     "output_type": "execute_result"
    }
   ],
   "source": [
    "sample = sorted_df.loc[sorted_df.user_id == '---1lKK3aKOuomHnwAkAow']\n",
    "simulation_df = pd.DataFrame(columns=['user_id','state','action','reward','next_state'])\n",
    "simulation_raw_df = pd.DataFrame(columns=['user_id','state','action','reward','next_state'])\n",
    "for user_id, each_grp in tqdm(sample.groupby(['user_id'])):\n",
    "    list_of_raw_dicts = []\n",
    "    list_of_dicts = []\n",
    "    window=5 # K\n",
    "    each_grp = each_grp.tail(50)\n",
    "    for i in range(0,each_grp.shape[0], 1):\n",
    "        if each_grp.shape[0] == i+window+1:\n",
    "            break\n",
    "        else:\n",
    "            temp_df = each_grp[i:i+window]\n",
    "            state = list(temp_df.business_id)\n",
    "#             print(state)\n",
    "            action = str(each_grp.iloc[i+window+1].business_id)\n",
    "            reward = float(each_grp.iloc[i+window+1].stars)\n",
    "            next_state = state.copy()\n",
    "            if reward >= 3.0:\n",
    "                next_state.append(action)\n",
    "                next_state = next_state[1:]\n",
    "            print('state {}, action {}, reward {}, next_state {}'.format(len(state),len([action]),reward,len(next_state)))\n",
    "            df_raw_dict = {'user_id': user_id,\n",
    "                       'state': ','.join(state),\n",
    "                       'action': str(action),\n",
    "                       'reward': float(reward),\n",
    "                       'next_state': ','.join(next_state)}\n",
    "            list_of_raw_dicts.append(df_raw_dict)\n",
    "            \n",
    "            df_dict = {'user_id': user_id,\n",
    "                       'state': ','.join(['|'.join([str(a) for a in rest_embedding_cdf.loc[str(bid)].tolist()]) for bid in state]),\n",
    "                       'action': '|'.join([str(a) for a in rest_embedding_cdf.loc[str(action)].tolist()]),\n",
    "                       'reward': reward,\n",
    "                       'next_state': ','.join(['|'.join([str(a) for a in rest_embedding_cdf.loc[str(bid)].tolist()]) for bid in next_state])}\n",
    "#             print(df_dict)\n",
    "            list_of_dicts.append(df_dict)\n",
    "    \n",
    "    simulation_df = simulation_df.append(list_of_dicts, ignore_index=False)\n",
    "    simulation_raw_df = simulation_raw_df.append(list_of_raw_dicts, ignore_index=False)\n",
    "\n",
    "print(simulation_df.shape)\n",
    "simulation_df.head()"
   ]
  },
  {
   "cell_type": "code",
   "execution_count": 22,
   "metadata": {},
   "outputs": [
    {
     "data": {
      "text/plain": [
       "array(['---1lKK3aKOuomHnwAkAow',\n",
       "       'ifEHr-ZnGFSKgJVsywiAFg,rq5dgoksPHkJwJNQKlGQ7w,ow5ku7hfMqU94mylTd3WlQ,iPM85PQMs7QoAxw-Og9ChQ,ifEHr-ZnGFSKgJVsywiAFg',\n",
       "       'y8d90Pt16Nip-B5UXWBP-w', 4.0,\n",
       "       'rq5dgoksPHkJwJNQKlGQ7w,ow5ku7hfMqU94mylTd3WlQ,iPM85PQMs7QoAxw-Og9ChQ,ifEHr-ZnGFSKgJVsywiAFg,y8d90Pt16Nip-B5UXWBP-w'],\n",
       "      dtype=object)"
      ]
     },
     "metadata": {},
     "output_type": "display_data"
    }
   ],
   "source": [
    "display(simulation_raw_df.iloc[0].values)"
   ]
  },
  {
   "cell_type": "code",
   "execution_count": 20,
   "metadata": {},
   "outputs": [
    {
     "data": {
      "text/html": [
       "<div>\n",
       "<style scoped>\n",
       "    .dataframe tbody tr th:only-of-type {\n",
       "        vertical-align: middle;\n",
       "    }\n",
       "\n",
       "    .dataframe tbody tr th {\n",
       "        vertical-align: top;\n",
       "    }\n",
       "\n",
       "    .dataframe thead th {\n",
       "        text-align: right;\n",
       "    }\n",
       "</style>\n",
       "<table border=\"1\" class=\"dataframe\">\n",
       "  <thead>\n",
       "    <tr style=\"text-align: right;\">\n",
       "      <th></th>\n",
       "      <th>user_id</th>\n",
       "      <th>state</th>\n",
       "      <th>action</th>\n",
       "      <th>reward</th>\n",
       "      <th>next_state</th>\n",
       "    </tr>\n",
       "  </thead>\n",
       "  <tbody>\n",
       "    <tr>\n",
       "      <th>0</th>\n",
       "      <td>---1lKK3aKOuomHnwAkAow</td>\n",
       "      <td>ifEHr-ZnGFSKgJVsywiAFg,rq5dgoksPHkJwJNQKlGQ7w,...</td>\n",
       "      <td>y8d90Pt16Nip-B5UXWBP-w</td>\n",
       "      <td>4.0</td>\n",
       "      <td>rq5dgoksPHkJwJNQKlGQ7w,ow5ku7hfMqU94mylTd3WlQ,...</td>\n",
       "    </tr>\n",
       "    <tr>\n",
       "      <th>1</th>\n",
       "      <td>---1lKK3aKOuomHnwAkAow</td>\n",
       "      <td>rq5dgoksPHkJwJNQKlGQ7w,ow5ku7hfMqU94mylTd3WlQ,...</td>\n",
       "      <td>Qy_tDaVTWlS14fEglzo1Tg</td>\n",
       "      <td>4.0</td>\n",
       "      <td>ow5ku7hfMqU94mylTd3WlQ,iPM85PQMs7QoAxw-Og9ChQ,...</td>\n",
       "    </tr>\n",
       "    <tr>\n",
       "      <th>2</th>\n",
       "      <td>---1lKK3aKOuomHnwAkAow</td>\n",
       "      <td>ow5ku7hfMqU94mylTd3WlQ,iPM85PQMs7QoAxw-Og9ChQ,...</td>\n",
       "      <td>ZgPnRzWjQR5NtiauGBww7g</td>\n",
       "      <td>5.0</td>\n",
       "      <td>iPM85PQMs7QoAxw-Og9ChQ,ifEHr-ZnGFSKgJVsywiAFg,...</td>\n",
       "    </tr>\n",
       "    <tr>\n",
       "      <th>3</th>\n",
       "      <td>---1lKK3aKOuomHnwAkAow</td>\n",
       "      <td>iPM85PQMs7QoAxw-Og9ChQ,ifEHr-ZnGFSKgJVsywiAFg,...</td>\n",
       "      <td>YCEZLECK9IToE8Mysorbhw</td>\n",
       "      <td>5.0</td>\n",
       "      <td>ifEHr-ZnGFSKgJVsywiAFg,A0X1baHPgw9IiBRivu0G9g,...</td>\n",
       "    </tr>\n",
       "    <tr>\n",
       "      <th>4</th>\n",
       "      <td>---1lKK3aKOuomHnwAkAow</td>\n",
       "      <td>ifEHr-ZnGFSKgJVsywiAFg,A0X1baHPgw9IiBRivu0G9g,...</td>\n",
       "      <td>zEaGcSVPDQipnRdEZp-F6g</td>\n",
       "      <td>2.0</td>\n",
       "      <td>ifEHr-ZnGFSKgJVsywiAFg,A0X1baHPgw9IiBRivu0G9g,...</td>\n",
       "    </tr>\n",
       "    <tr>\n",
       "      <th>5</th>\n",
       "      <td>---1lKK3aKOuomHnwAkAow</td>\n",
       "      <td>A0X1baHPgw9IiBRivu0G9g,y8d90Pt16Nip-B5UXWBP-w,...</td>\n",
       "      <td>p5rpYtxS5xPQjt3MXYVEwA</td>\n",
       "      <td>5.0</td>\n",
       "      <td>y8d90Pt16Nip-B5UXWBP-w,Qy_tDaVTWlS14fEglzo1Tg,...</td>\n",
       "    </tr>\n",
       "    <tr>\n",
       "      <th>6</th>\n",
       "      <td>---1lKK3aKOuomHnwAkAow</td>\n",
       "      <td>y8d90Pt16Nip-B5UXWBP-w,Qy_tDaVTWlS14fEglzo1Tg,...</td>\n",
       "      <td>Xspg78dOvuedvuPEUwZBjw</td>\n",
       "      <td>4.0</td>\n",
       "      <td>Qy_tDaVTWlS14fEglzo1Tg,ZgPnRzWjQR5NtiauGBww7g,...</td>\n",
       "    </tr>\n",
       "    <tr>\n",
       "      <th>7</th>\n",
       "      <td>---1lKK3aKOuomHnwAkAow</td>\n",
       "      <td>Qy_tDaVTWlS14fEglzo1Tg,ZgPnRzWjQR5NtiauGBww7g,...</td>\n",
       "      <td>5aeR9KcboZmhDZlFscnYRA</td>\n",
       "      <td>5.0</td>\n",
       "      <td>ZgPnRzWjQR5NtiauGBww7g,YCEZLECK9IToE8Mysorbhw,...</td>\n",
       "    </tr>\n",
       "    <tr>\n",
       "      <th>8</th>\n",
       "      <td>---1lKK3aKOuomHnwAkAow</td>\n",
       "      <td>ZgPnRzWjQR5NtiauGBww7g,YCEZLECK9IToE8Mysorbhw,...</td>\n",
       "      <td>_sh6mIBWZis66mAjkjN8Qg</td>\n",
       "      <td>5.0</td>\n",
       "      <td>YCEZLECK9IToE8Mysorbhw,zEaGcSVPDQipnRdEZp-F6g,...</td>\n",
       "    </tr>\n",
       "    <tr>\n",
       "      <th>9</th>\n",
       "      <td>---1lKK3aKOuomHnwAkAow</td>\n",
       "      <td>YCEZLECK9IToE8Mysorbhw,zEaGcSVPDQipnRdEZp-F6g,...</td>\n",
       "      <td>igHYkXZMLAc9UdV5VnR_AA</td>\n",
       "      <td>5.0</td>\n",
       "      <td>zEaGcSVPDQipnRdEZp-F6g,p5rpYtxS5xPQjt3MXYVEwA,...</td>\n",
       "    </tr>\n",
       "    <tr>\n",
       "      <th>10</th>\n",
       "      <td>---1lKK3aKOuomHnwAkAow</td>\n",
       "      <td>zEaGcSVPDQipnRdEZp-F6g,p5rpYtxS5xPQjt3MXYVEwA,...</td>\n",
       "      <td>GJBLjDkfJ4tvkpAjDeCikA</td>\n",
       "      <td>1.0</td>\n",
       "      <td>zEaGcSVPDQipnRdEZp-F6g,p5rpYtxS5xPQjt3MXYVEwA,...</td>\n",
       "    </tr>\n",
       "  </tbody>\n",
       "</table>\n",
       "</div>"
      ],
      "text/plain": [
       "                   user_id                                              state  \\\n",
       "0   ---1lKK3aKOuomHnwAkAow  ifEHr-ZnGFSKgJVsywiAFg,rq5dgoksPHkJwJNQKlGQ7w,...   \n",
       "1   ---1lKK3aKOuomHnwAkAow  rq5dgoksPHkJwJNQKlGQ7w,ow5ku7hfMqU94mylTd3WlQ,...   \n",
       "2   ---1lKK3aKOuomHnwAkAow  ow5ku7hfMqU94mylTd3WlQ,iPM85PQMs7QoAxw-Og9ChQ,...   \n",
       "3   ---1lKK3aKOuomHnwAkAow  iPM85PQMs7QoAxw-Og9ChQ,ifEHr-ZnGFSKgJVsywiAFg,...   \n",
       "4   ---1lKK3aKOuomHnwAkAow  ifEHr-ZnGFSKgJVsywiAFg,A0X1baHPgw9IiBRivu0G9g,...   \n",
       "5   ---1lKK3aKOuomHnwAkAow  A0X1baHPgw9IiBRivu0G9g,y8d90Pt16Nip-B5UXWBP-w,...   \n",
       "6   ---1lKK3aKOuomHnwAkAow  y8d90Pt16Nip-B5UXWBP-w,Qy_tDaVTWlS14fEglzo1Tg,...   \n",
       "7   ---1lKK3aKOuomHnwAkAow  Qy_tDaVTWlS14fEglzo1Tg,ZgPnRzWjQR5NtiauGBww7g,...   \n",
       "8   ---1lKK3aKOuomHnwAkAow  ZgPnRzWjQR5NtiauGBww7g,YCEZLECK9IToE8Mysorbhw,...   \n",
       "9   ---1lKK3aKOuomHnwAkAow  YCEZLECK9IToE8Mysorbhw,zEaGcSVPDQipnRdEZp-F6g,...   \n",
       "10  ---1lKK3aKOuomHnwAkAow  zEaGcSVPDQipnRdEZp-F6g,p5rpYtxS5xPQjt3MXYVEwA,...   \n",
       "\n",
       "                    action  reward  \\\n",
       "0   y8d90Pt16Nip-B5UXWBP-w     4.0   \n",
       "1   Qy_tDaVTWlS14fEglzo1Tg     4.0   \n",
       "2   ZgPnRzWjQR5NtiauGBww7g     5.0   \n",
       "3   YCEZLECK9IToE8Mysorbhw     5.0   \n",
       "4   zEaGcSVPDQipnRdEZp-F6g     2.0   \n",
       "5   p5rpYtxS5xPQjt3MXYVEwA     5.0   \n",
       "6   Xspg78dOvuedvuPEUwZBjw     4.0   \n",
       "7   5aeR9KcboZmhDZlFscnYRA     5.0   \n",
       "8   _sh6mIBWZis66mAjkjN8Qg     5.0   \n",
       "9   igHYkXZMLAc9UdV5VnR_AA     5.0   \n",
       "10  GJBLjDkfJ4tvkpAjDeCikA     1.0   \n",
       "\n",
       "                                           next_state  \n",
       "0   rq5dgoksPHkJwJNQKlGQ7w,ow5ku7hfMqU94mylTd3WlQ,...  \n",
       "1   ow5ku7hfMqU94mylTd3WlQ,iPM85PQMs7QoAxw-Og9ChQ,...  \n",
       "2   iPM85PQMs7QoAxw-Og9ChQ,ifEHr-ZnGFSKgJVsywiAFg,...  \n",
       "3   ifEHr-ZnGFSKgJVsywiAFg,A0X1baHPgw9IiBRivu0G9g,...  \n",
       "4   ifEHr-ZnGFSKgJVsywiAFg,A0X1baHPgw9IiBRivu0G9g,...  \n",
       "5   y8d90Pt16Nip-B5UXWBP-w,Qy_tDaVTWlS14fEglzo1Tg,...  \n",
       "6   Qy_tDaVTWlS14fEglzo1Tg,ZgPnRzWjQR5NtiauGBww7g,...  \n",
       "7   ZgPnRzWjQR5NtiauGBww7g,YCEZLECK9IToE8Mysorbhw,...  \n",
       "8   YCEZLECK9IToE8Mysorbhw,zEaGcSVPDQipnRdEZp-F6g,...  \n",
       "9   zEaGcSVPDQipnRdEZp-F6g,p5rpYtxS5xPQjt3MXYVEwA,...  \n",
       "10  zEaGcSVPDQipnRdEZp-F6g,p5rpYtxS5xPQjt3MXYVEwA,...  "
      ]
     },
     "execution_count": 20,
     "metadata": {},
     "output_type": "execute_result"
    }
   ],
   "source": [
    "simulation_raw_df"
   ]
  },
  {
   "cell_type": "code",
   "execution_count": 23,
   "metadata": {},
   "outputs": [
    {
     "name": "stderr",
     "output_type": "stream",
     "text": [
      "100%|████████████████████████████████████████████████████████████████████████████████████████████████████████████████████████████████| 15662/15662 [46:48<00:00,  3.44it/s]\n"
     ]
    },
    {
     "name": "stdout",
     "output_type": "stream",
     "text": [
      "(242679, 5)\n"
     ]
    },
    {
     "data": {
      "text/html": [
       "<div>\n",
       "<style scoped>\n",
       "    .dataframe tbody tr th:only-of-type {\n",
       "        vertical-align: middle;\n",
       "    }\n",
       "\n",
       "    .dataframe tbody tr th {\n",
       "        vertical-align: top;\n",
       "    }\n",
       "\n",
       "    .dataframe thead th {\n",
       "        text-align: right;\n",
       "    }\n",
       "</style>\n",
       "<table border=\"1\" class=\"dataframe\">\n",
       "  <thead>\n",
       "    <tr style=\"text-align: right;\">\n",
       "      <th></th>\n",
       "      <th>user_id</th>\n",
       "      <th>state</th>\n",
       "      <th>action</th>\n",
       "      <th>reward</th>\n",
       "      <th>next_state</th>\n",
       "    </tr>\n",
       "  </thead>\n",
       "  <tbody>\n",
       "    <tr>\n",
       "      <th>0</th>\n",
       "      <td>---1lKK3aKOuomHnwAkAow</td>\n",
       "      <td>5.105682|3.02343|1.1998029|2.6459227000000003|...</td>\n",
       "      <td>3.907493|3.9790266000000005|0.85891354|2.99556...</td>\n",
       "      <td>4.0</td>\n",
       "      <td>3.6259165|4.555624|1.7463031000000002|3.389558...</td>\n",
       "    </tr>\n",
       "    <tr>\n",
       "      <th>1</th>\n",
       "      <td>---1lKK3aKOuomHnwAkAow</td>\n",
       "      <td>3.6259165|4.555624|1.7463031000000002|3.389558...</td>\n",
       "      <td>2.1000068|5.064063|1.3642833|3.633889|7.801534...</td>\n",
       "      <td>4.0</td>\n",
       "      <td>5.943884400000001|2.053497|2.2759242000000004|...</td>\n",
       "    </tr>\n",
       "    <tr>\n",
       "      <th>2</th>\n",
       "      <td>---1lKK3aKOuomHnwAkAow</td>\n",
       "      <td>5.943884400000001|2.053497|2.2759242000000004|...</td>\n",
       "      <td>2.4830651|5.704142|0.17315382|4.15246960000000...</td>\n",
       "      <td>5.0</td>\n",
       "      <td>3.21387|4.1962743|2.4558017000000003|3.489384|...</td>\n",
       "    </tr>\n",
       "    <tr>\n",
       "      <th>3</th>\n",
       "      <td>---1lKK3aKOuomHnwAkAow</td>\n",
       "      <td>3.21387|4.1962743|2.4558017000000003|3.489384|...</td>\n",
       "      <td>1.5584882|4.790303700000001|0.621162|4.0098743...</td>\n",
       "      <td>5.0</td>\n",
       "      <td>5.105682|3.02343|1.1998029|2.6459227000000003|...</td>\n",
       "    </tr>\n",
       "    <tr>\n",
       "      <th>4</th>\n",
       "      <td>---1lKK3aKOuomHnwAkAow</td>\n",
       "      <td>5.105682|3.02343|1.1998029|2.6459227000000003|...</td>\n",
       "      <td>4.054323|6.1892065999999994|0.6355050999999999...</td>\n",
       "      <td>2.0</td>\n",
       "      <td>5.105682|3.02343|1.1998029|2.6459227000000003|...</td>\n",
       "    </tr>\n",
       "  </tbody>\n",
       "</table>\n",
       "</div>"
      ],
      "text/plain": [
       "                  user_id                                              state  \\\n",
       "0  ---1lKK3aKOuomHnwAkAow  5.105682|3.02343|1.1998029|2.6459227000000003|...   \n",
       "1  ---1lKK3aKOuomHnwAkAow  3.6259165|4.555624|1.7463031000000002|3.389558...   \n",
       "2  ---1lKK3aKOuomHnwAkAow  5.943884400000001|2.053497|2.2759242000000004|...   \n",
       "3  ---1lKK3aKOuomHnwAkAow  3.21387|4.1962743|2.4558017000000003|3.489384|...   \n",
       "4  ---1lKK3aKOuomHnwAkAow  5.105682|3.02343|1.1998029|2.6459227000000003|...   \n",
       "\n",
       "                                              action  reward  \\\n",
       "0  3.907493|3.9790266000000005|0.85891354|2.99556...     4.0   \n",
       "1  2.1000068|5.064063|1.3642833|3.633889|7.801534...     4.0   \n",
       "2  2.4830651|5.704142|0.17315382|4.15246960000000...     5.0   \n",
       "3  1.5584882|4.790303700000001|0.621162|4.0098743...     5.0   \n",
       "4  4.054323|6.1892065999999994|0.6355050999999999...     2.0   \n",
       "\n",
       "                                          next_state  \n",
       "0  3.6259165|4.555624|1.7463031000000002|3.389558...  \n",
       "1  5.943884400000001|2.053497|2.2759242000000004|...  \n",
       "2  3.21387|4.1962743|2.4558017000000003|3.489384|...  \n",
       "3  5.105682|3.02343|1.1998029|2.6459227000000003|...  \n",
       "4  5.105682|3.02343|1.1998029|2.6459227000000003|...  "
      ]
     },
     "execution_count": 23,
     "metadata": {},
     "output_type": "execute_result"
    }
   ],
   "source": [
    "simulation_df = pd.DataFrame(columns=['user_id','state','action','reward','next_state'])\n",
    "simulation_raw_df = pd.DataFrame(columns=['user_id','state','action','reward','next_state'])\n",
    "for user_id, each_grp in tqdm(sorted_df.groupby(['user_id'])):\n",
    "    list_of_raw_dicts = []\n",
    "    list_of_dicts = []\n",
    "    window=5 # K\n",
    "    each_grp = each_grp.tail(50)\n",
    "    for i in range(0,each_grp.shape[0], 1):\n",
    "        if each_grp.shape[0] == i+window+1:\n",
    "            break\n",
    "        else:\n",
    "            temp_df = each_grp[i:i+window]\n",
    "            state = list(temp_df.business_id)\n",
    "            action = each_grp.iloc[i+window+1].business_id\n",
    "            reward = each_grp.iloc[i+window+1].stars\n",
    "            next_state = state.copy()\n",
    "            if reward >= 3.0:\n",
    "                next_state.append(action)\n",
    "                next_state = next_state[1:]\n",
    "                \n",
    "            df_raw_dict = {'user_id': user_id,\n",
    "                       'state': ','.join(state),\n",
    "                       'action': str(action),\n",
    "                       'reward': float(reward),\n",
    "                       'next_state': ','.join(next_state)}\n",
    "            list_of_raw_dicts.append(df_raw_dict)\n",
    "            \n",
    "            df_dict = {'user_id': user_id,\n",
    "                   'state': ','.join(['|'.join([str(a) for a in rest_embedding_cdf.loc[str(bid)].tolist()]) for bid in state]),\n",
    "                   'action': '|'.join([str(a) for a in rest_embedding_cdf.loc[str(action)].tolist()]),\n",
    "                   'reward': reward,\n",
    "                   'next_state': ','.join(['|'.join([str(a) for a in rest_embedding_cdf.loc[str(bid)].tolist()]) for bid in next_state])}\n",
    "            list_of_dicts.append(df_dict)\n",
    "    \n",
    "    simulation_df = simulation_df.append(list_of_dicts, ignore_index=False)\n",
    "    simulation_raw_df = simulation_raw_df.append(list_of_raw_dicts, ignore_index=False)\n",
    "\n",
    "print(simulation_df.shape)\n",
    "simulation_df.head()"
   ]
  },
  {
   "cell_type": "code",
   "execution_count": 24,
   "metadata": {},
   "outputs": [],
   "source": [
    "simulation_df.to_csv(BASE_PATH+'dqn_simulation_data.csv',index=False)\n",
    "simulation_raw_df.to_csv(BASE_PATH+'dqn_simulation_raw_data.csv',index=False)"
   ]
  },
  {
   "cell_type": "code",
   "execution_count": 27,
   "metadata": {},
   "outputs": [
    {
     "data": {
      "text/plain": [
       "array(['---1lKK3aKOuomHnwAkAow',\n",
       "       '5.105682|3.02343|1.1998029|2.6459227000000003|5.967494|2.747674|5.908251|0.057842492999999995|0.85804594|5.826194,3.6259165|4.555624|1.7463031000000002|3.3895586000000004|7.5602160000000005|0.5086723|5.0327444|1.1266215|6.322655999999999|6.77722,5.943884400000001|2.053497|2.2759242000000004|2.484219|7.068959700000001|1.9090053|2.9084156|2.6935862999999998|5.0421085|8.338318,3.21387|4.1962743|2.4558017000000003|3.489384|8.570441|1.9554832999999998|5.943498|0.7709999|1.5001686|6.353068,5.105682|3.02343|1.1998029|2.6459227000000003|5.967494|2.747674|5.908251|0.057842492999999995|0.85804594|5.826194',\n",
       "       '3.907493|3.9790266000000005|0.85891354|2.9955611|6.7953149999999996|4.5976105|5.620213|0.0|0.45199290000000003|4.6249733',\n",
       "       4.0,\n",
       "       '3.6259165|4.555624|1.7463031000000002|3.3895586000000004|7.5602160000000005|0.5086723|5.0327444|1.1266215|6.322655999999999|6.77722,5.943884400000001|2.053497|2.2759242000000004|2.484219|7.068959700000001|1.9090053|2.9084156|2.6935862999999998|5.0421085|8.338318,3.21387|4.1962743|2.4558017000000003|3.489384|8.570441|1.9554832999999998|5.943498|0.7709999|1.5001686|6.353068,5.105682|3.02343|1.1998029|2.6459227000000003|5.967494|2.747674|5.908251|0.057842492999999995|0.85804594|5.826194,3.907493|3.9790266000000005|0.85891354|2.9955611|6.7953149999999996|4.5976105|5.620213|0.0|0.45199290000000003|4.6249733'],\n",
       "      dtype=object)"
      ]
     },
     "metadata": {},
     "output_type": "display_data"
    }
   ],
   "source": [
    "display(simulation_df.iloc[0].values)"
   ]
  },
  {
   "cell_type": "code",
   "execution_count": 34,
   "metadata": {},
   "outputs": [],
   "source": [
    "sample = simulation_df[simulation_df.user_id == '---1lKK3aKOuomHnwAkAow']\n",
    "sample['state'] = sample.state.apply(lambda x: np.asarray([each.split('|') for each in x.split(',')], dtype='float32'))\n",
    "sample['action'] = sample.action.apply(lambda x: np.asarray(x.split('|'), dtype='float32'))"
   ]
  },
  {
   "cell_type": "code",
   "execution_count": 77,
   "metadata": {},
   "outputs": [],
   "source": [
    "simulation_raw_df = pd.read_csv(BASE_PATH+'dqn_simulation_raw_data.csv')"
   ]
  },
  {
   "cell_type": "code",
   "execution_count": 80,
   "metadata": {},
   "outputs": [],
   "source": [
    "grp_data = simulation_raw_df.groupby('user_id')['action'].count().reset_index()"
   ]
  },
  {
   "cell_type": "code",
   "execution_count": 84,
   "metadata": {},
   "outputs": [
    {
     "data": {
      "text/plain": [
       "5"
      ]
     },
     "execution_count": 84,
     "metadata": {},
     "output_type": "execute_result"
    }
   ],
   "source": [
    "grp_data.action.min()"
   ]
  },
  {
   "cell_type": "markdown",
   "metadata": {},
   "source": [
    "## Testing the Simulator with Cosine Similarity"
   ]
  },
  {
   "cell_type": "code",
   "execution_count": 27,
   "metadata": {},
   "outputs": [],
   "source": [
    "sample.to_csv('test.csv')"
   ]
  },
  {
   "cell_type": "code",
   "execution_count": 28,
   "metadata": {},
   "outputs": [
    {
     "name": "stdout",
     "output_type": "stream",
     "text": [
      "reward 1.0 - state values (1, 5, 6) action values (1, 1)\n",
      "reward 2.0 - state values (1, 5, 6) action values (1, 1)\n",
      "reward 4.0 - state values (3, 5, 6) action values (3, 1)\n",
      "reward 5.0 - state values (6, 5, 6) action values (6, 1)\n"
     ]
    }
   ],
   "source": [
    "rewards = list()\n",
    "avg_states = list()\n",
    "avg_actions = list()\n",
    "group_sizes = list()\n",
    "for reward, group_df in sample.groupby(['reward']):\n",
    "    n_size = group_df.shape[0]\n",
    "    state_values = group_df['state'].values.tolist()\n",
    "    action_values = group_df['action'].values.tolist()\n",
    "    print('reward {} - state values {} action values {}'.format(reward, np.asarray(state_values).shape, np.asarray(action_values).shape))\n",
    "    avg_states.append(\n",
    "        np.sum(state_values / np.linalg.norm(state_values, 2, axis=1)[:, np.newaxis], axis=0) / n_size\n",
    "    )\n",
    "    avg_actions.append(\n",
    "        np.sum(action_values / np.linalg.norm(action_values, 2, axis=1)[:, np.newaxis], axis=0) / n_size\n",
    "    )\n",
    "    group_sizes.append(n_size)\n",
    "    rewards.append(reward)"
   ]
  },
  {
   "cell_type": "code",
   "execution_count": 35,
   "metadata": {},
   "outputs": [
    {
     "data": {
      "text/plain": [
       "4.0"
      ]
     },
     "execution_count": 35,
     "metadata": {},
     "output_type": "execute_result"
    }
   ],
   "source": [
    "temp_sample = sample.sample(1)\n",
    "current_state = temp_sample.state.values[0]\n",
    "action = temp_sample.action.values[0]\n",
    "rw = temp_sample.reward.values[0]\n",
    "rw"
   ]
  },
  {
   "cell_type": "code",
   "execution_count": 30,
   "metadata": {},
   "outputs": [],
   "source": [
    "from sklearn.metrics.pairwise import cosine_similarity\n",
    "import scipy.spatial as sp"
   ]
  },
  {
   "cell_type": "code",
   "execution_count": 37,
   "metadata": {},
   "outputs": [
    {
     "data": {
      "text/plain": [
       "4.0"
      ]
     },
     "execution_count": 37,
     "metadata": {},
     "output_type": "execute_result"
    }
   ],
   "source": [
    "alpha = 0.5\n",
    "comp_current_state = current_state.reshape(1, current_state.shape[0]*current_state.shape[1])\n",
    "comp_action = action.reshape(1,-1)\n",
    "probability = list()\n",
    "denominator = 0.\n",
    "\n",
    "for idx, row in sample.iterrows():\n",
    "    state_values = np.asarray(row['state']).reshape(1,30)\n",
    "    action_values = np.asarray(row['action']).reshape(1,6)\n",
    "    numerator = (alpha * cosine_similarity(state_values, comp_current_state)) + \\\n",
    "                ((1 - alpha) * cosine_similarity(action_values, comp_action))\n",
    "    probability.append(numerator)\n",
    "    denominator += numerator\n",
    "probability /= denominator\n",
    "simulate_rewards = sample.iloc[int(np.argmax(probability))]['reward']\n",
    "simulate_rewards"
   ]
  },
  {
   "cell_type": "code",
   "execution_count": 38,
   "metadata": {},
   "outputs": [
    {
     "ename": "ValueError",
     "evalue": "Incompatible dimension for X and Y matrices: X.shape[1] == 1 while Y.shape[1] == 6",
     "output_type": "error",
     "traceback": [
      "\u001b[1;31m---------------------------------------------------------------------------\u001b[0m",
      "\u001b[1;31mValueError\u001b[0m                                Traceback (most recent call last)",
      "\u001b[1;32m<ipython-input-38-ea771d80ce78>\u001b[0m in \u001b[0;36m<module>\u001b[1;34m()\u001b[0m\n\u001b[0;32m      8\u001b[0m     \u001b[0ms\u001b[0m \u001b[1;33m=\u001b[0m \u001b[0ms\u001b[0m\u001b[1;33m.\u001b[0m\u001b[0mreshape\u001b[0m\u001b[1;33m(\u001b[0m\u001b[1;36m1\u001b[0m\u001b[1;33m,\u001b[0m\u001b[0ms\u001b[0m\u001b[1;33m.\u001b[0m\u001b[0mshape\u001b[0m\u001b[1;33m[\u001b[0m\u001b[1;36m0\u001b[0m\u001b[1;33m]\u001b[0m\u001b[1;33m*\u001b[0m\u001b[0ms\u001b[0m\u001b[1;33m.\u001b[0m\u001b[0mshape\u001b[0m\u001b[1;33m[\u001b[0m\u001b[1;36m1\u001b[0m\u001b[1;33m]\u001b[0m\u001b[1;33m)\u001b[0m\u001b[1;33m\u001b[0m\u001b[0m\n\u001b[0;32m      9\u001b[0m     \u001b[0ma\u001b[0m \u001b[1;33m=\u001b[0m \u001b[0ma\u001b[0m\u001b[1;33m.\u001b[0m\u001b[0mreshape\u001b[0m\u001b[1;33m(\u001b[0m\u001b[1;36m1\u001b[0m\u001b[1;33m,\u001b[0m\u001b[1;33m-\u001b[0m\u001b[1;36m1\u001b[0m\u001b[1;33m)\u001b[0m\u001b[1;33m\u001b[0m\u001b[0m\n\u001b[1;32m---> 10\u001b[1;33m     \u001b[0mnumerator\u001b[0m \u001b[1;33m=\u001b[0m \u001b[1;33m(\u001b[0m\u001b[0malpha\u001b[0m \u001b[1;33m*\u001b[0m \u001b[0mcosine_similarity\u001b[0m\u001b[1;33m(\u001b[0m\u001b[0ms\u001b[0m\u001b[1;33m,\u001b[0m \u001b[0mcomp_current_state\u001b[0m\u001b[1;33m)\u001b[0m\u001b[1;33m)\u001b[0m \u001b[1;33m+\u001b[0m                 \u001b[1;33m(\u001b[0m\u001b[1;33m(\u001b[0m\u001b[1;36m1\u001b[0m \u001b[1;33m-\u001b[0m \u001b[0malpha\u001b[0m\u001b[1;33m)\u001b[0m \u001b[1;33m*\u001b[0m \u001b[0mcosine_similarity\u001b[0m\u001b[1;33m(\u001b[0m\u001b[0ma\u001b[0m\u001b[1;33m,\u001b[0m \u001b[0mcomp_action\u001b[0m\u001b[1;33m)\u001b[0m\u001b[1;33m)\u001b[0m\u001b[1;33m\u001b[0m\u001b[0m\n\u001b[0m\u001b[0;32m     11\u001b[0m     \u001b[0mprobability\u001b[0m\u001b[1;33m.\u001b[0m\u001b[0mappend\u001b[0m\u001b[1;33m(\u001b[0m\u001b[0mnumerator\u001b[0m\u001b[1;33m)\u001b[0m\u001b[1;33m\u001b[0m\u001b[0m\n\u001b[0;32m     12\u001b[0m     \u001b[0mdenominator\u001b[0m \u001b[1;33m+=\u001b[0m \u001b[0mnumerator\u001b[0m\u001b[1;33m\u001b[0m\u001b[0m\n",
      "\u001b[1;32mD:\\programming\\anaconda5.1.0\\lib\\site-packages\\sklearn\\metrics\\pairwise.py\u001b[0m in \u001b[0;36mcosine_similarity\u001b[1;34m(X, Y, dense_output)\u001b[0m\n\u001b[0;32m   1025\u001b[0m     \u001b[1;31m# to avoid recursive import\u001b[0m\u001b[1;33m\u001b[0m\u001b[1;33m\u001b[0m\u001b[0m\n\u001b[0;32m   1026\u001b[0m \u001b[1;33m\u001b[0m\u001b[0m\n\u001b[1;32m-> 1027\u001b[1;33m     \u001b[0mX\u001b[0m\u001b[1;33m,\u001b[0m \u001b[0mY\u001b[0m \u001b[1;33m=\u001b[0m \u001b[0mcheck_pairwise_arrays\u001b[0m\u001b[1;33m(\u001b[0m\u001b[0mX\u001b[0m\u001b[1;33m,\u001b[0m \u001b[0mY\u001b[0m\u001b[1;33m)\u001b[0m\u001b[1;33m\u001b[0m\u001b[0m\n\u001b[0m\u001b[0;32m   1028\u001b[0m \u001b[1;33m\u001b[0m\u001b[0m\n\u001b[0;32m   1029\u001b[0m     \u001b[0mX_normalized\u001b[0m \u001b[1;33m=\u001b[0m \u001b[0mnormalize\u001b[0m\u001b[1;33m(\u001b[0m\u001b[0mX\u001b[0m\u001b[1;33m,\u001b[0m \u001b[0mcopy\u001b[0m\u001b[1;33m=\u001b[0m\u001b[1;32mTrue\u001b[0m\u001b[1;33m)\u001b[0m\u001b[1;33m\u001b[0m\u001b[0m\n",
      "\u001b[1;32mD:\\programming\\anaconda5.1.0\\lib\\site-packages\\sklearn\\metrics\\pairwise.py\u001b[0m in \u001b[0;36mcheck_pairwise_arrays\u001b[1;34m(X, Y, precomputed, dtype)\u001b[0m\n\u001b[0;32m    123\u001b[0m         raise ValueError(\"Incompatible dimension for X and Y matrices: \"\n\u001b[0;32m    124\u001b[0m                          \"X.shape[1] == %d while Y.shape[1] == %d\" % (\n\u001b[1;32m--> 125\u001b[1;33m                              X.shape[1], Y.shape[1]))\n\u001b[0m\u001b[0;32m    126\u001b[0m \u001b[1;33m\u001b[0m\u001b[0m\n\u001b[0;32m    127\u001b[0m     \u001b[1;32mreturn\u001b[0m \u001b[0mX\u001b[0m\u001b[1;33m,\u001b[0m \u001b[0mY\u001b[0m\u001b[1;33m\u001b[0m\u001b[0m\n",
      "\u001b[1;31mValueError\u001b[0m: Incompatible dimension for X and Y matrices: X.shape[1] == 1 while Y.shape[1] == 6"
     ]
    }
   ],
   "source": [
    "alpha = 0.5\n",
    "comp_current_state = current_state.reshape(1, current_state.shape[0]*current_state.shape[1])\n",
    "comp_action = action.reshape(1,-1)\n",
    "probability = list()\n",
    "denominator = 0.\n",
    "# change a different way to calculate simulated reward\n",
    "for s, a in zip(avg_states, avg_actions):\n",
    "    s = s.reshape(1,s.shape[0]*s.shape[1])\n",
    "    a = a.reshape(1,-1)\n",
    "    numerator = (alpha * cosine_similarity(s, comp_current_state)) + \\\n",
    "                ((1 - alpha) * cosine_similarity(a, comp_action))\n",
    "    probability.append(numerator)\n",
    "    denominator += numerator\n",
    "probability /= denominator\n",
    "result = rewards[int(np.argmax(probability))]\n",
    "result"
   ]
  },
  {
   "cell_type": "code",
   "execution_count": 39,
   "metadata": {},
   "outputs": [
    {
     "data": {
      "text/plain": [
       "array([[-21.18446   ,   0.1743042 ,  -1.2954022 ,   0.25401723,\n",
       "          0.28795096,  -0.9985907 ],\n",
       "       [-21.18446   ,   0.1743042 ,  -1.2954022 ,   0.25401723,\n",
       "          0.28795096,  -0.9985907 ],\n",
       "       [-21.18446   ,   0.1743042 ,  -1.2954022 ,   0.25401723,\n",
       "          0.28795096,  -0.9985907 ],\n",
       "       [-21.18446   ,   0.1743042 ,  -1.2954022 ,   0.25401723,\n",
       "          0.28795096,  -0.9985907 ],\n",
       "       [-21.18446   ,   0.1743042 ,  -1.2954022 ,   0.25401723,\n",
       "          0.28795096,  -0.9985907 ]], dtype=float32)"
      ]
     },
     "execution_count": 39,
     "metadata": {},
     "output_type": "execute_result"
    }
   ],
   "source": [
    "current_state"
   ]
  },
  {
   "cell_type": "code",
   "execution_count": 40,
   "metadata": {},
   "outputs": [
    {
     "data": {
      "text/plain": [
       "array([-21.18446   ,   0.1743042 ,  -1.2954022 ,   0.25401723,\n",
       "         0.28795096,  -0.99859065], dtype=float32)"
      ]
     },
     "execution_count": 40,
     "metadata": {},
     "output_type": "execute_result"
    }
   ],
   "source": [
    "current_state_query = np.mean(current_state, axis=0)\n",
    "current_state_query"
   ]
  },
  {
   "cell_type": "markdown",
   "metadata": {},
   "source": [
    "## Test nearest neighbour with noise"
   ]
  },
  {
   "cell_type": "code",
   "execution_count": 41,
   "metadata": {},
   "outputs": [],
   "source": [
    "from sklearn.neighbors import NearestNeighbors"
   ]
  },
  {
   "cell_type": "code",
   "execution_count": 42,
   "metadata": {},
   "outputs": [
    {
     "data": {
      "text/plain": [
       "NearestNeighbors(algorithm='kd_tree', leaf_size=30, metric='minkowski',\n",
       "                 metric_params=None, n_jobs=None, n_neighbors=20, p=2,\n",
       "                 radius=1.0)"
      ]
     },
     "execution_count": 42,
     "metadata": {},
     "output_type": "execute_result"
    }
   ],
   "source": [
    "model_nn = NearestNeighbors(n_neighbors=20, algorithm='kd_tree')\n",
    "model_nn.fit(rest_embedding_cdf)"
   ]
  },
  {
   "cell_type": "code",
   "execution_count": 43,
   "metadata": {},
   "outputs": [
    {
     "data": {
      "text/plain": [
       "array([-21.18446   ,   0.1743042 ,  -1.2954022 ,   0.25401723,\n",
       "         0.28795096,  -0.9985907 ], dtype=float32)"
      ]
     },
     "execution_count": 43,
     "metadata": {},
     "output_type": "execute_result"
    }
   ],
   "source": [
    "action"
   ]
  },
  {
   "cell_type": "code",
   "execution_count": 44,
   "metadata": {},
   "outputs": [],
   "source": [
    "distances, indexs = model_nn.kneighbors([current_state_query])\n",
    "indexs = list(indexs.flatten())"
   ]
  },
  {
   "cell_type": "code",
   "execution_count": 45,
   "metadata": {},
   "outputs": [
    {
     "data": {
      "text/plain": [
       "(20, 6)"
      ]
     },
     "execution_count": 45,
     "metadata": {},
     "output_type": "execute_result"
    }
   ],
   "source": [
    "nearest_data = rest_embedding_cdf.iloc[indexs]\n",
    "nearest_array = np.asarray(nearest_data.values.tolist())\n",
    "nearest_array.shape"
   ]
  },
  {
   "cell_type": "code",
   "execution_count": 46,
   "metadata": {},
   "outputs": [],
   "source": [
    "data1 = set(nearest_data.index)"
   ]
  },
  {
   "cell_type": "code",
   "execution_count": 47,
   "metadata": {},
   "outputs": [],
   "source": [
    "mu=0\n",
    "sigma=0.2\n",
    "theta=0.5"
   ]
  },
  {
   "cell_type": "code",
   "execution_count": 49,
   "metadata": {},
   "outputs": [
    {
     "data": {
      "text/plain": [
       "array([0., 0., 0., 0., 0., 0.])"
      ]
     },
     "execution_count": 49,
     "metadata": {},
     "output_type": "execute_result"
    }
   ],
   "source": [
    "x = np.ones((6,)) * mu\n",
    "x"
   ]
  },
  {
   "cell_type": "code",
   "execution_count": 50,
   "metadata": {},
   "outputs": [
    {
     "data": {
      "text/plain": [
       "array([0.01220985, 0.07678747, 0.07135947, 0.02536492, 0.11650824,\n",
       "       0.03208213])"
      ]
     },
     "execution_count": 50,
     "metadata": {},
     "output_type": "execute_result"
    }
   ],
   "source": [
    "dx = theta * (mu - x) + sigma * np.random.rand(len(x))\n",
    "dx"
   ]
  },
  {
   "cell_type": "code",
   "execution_count": 52,
   "metadata": {},
   "outputs": [
    {
     "data": {
      "text/plain": [
       "array([0.02441971, 0.15357495, 0.14271895, 0.05072984, 0.23301649,\n",
       "       0.06416426])"
      ]
     },
     "execution_count": 52,
     "metadata": {},
     "output_type": "execute_result"
    }
   ],
   "source": [
    "x = x+dx\n",
    "x"
   ]
  },
  {
   "cell_type": "code",
   "execution_count": 218,
   "metadata": {},
   "outputs": [
    {
     "name": "stdout",
     "output_type": "stream",
     "text": [
      "[-21.18446      0.1743042   -1.2954022    0.25401723   0.28795096\n",
      "  -0.99859065]\n",
      "[1.09116063 0.98861155 0.97204107 1.16974775 0.8940221  1.17279379]\n",
      "[-23.11564842   0.17231915  -1.25918411   0.29713609   0.25743452\n",
      "  -1.17114091]\n"
     ]
    }
   ],
   "source": [
    "print(current_state_query)\n",
    "mu, sigma = 1.0, 0.1\n",
    "# creating a noise with the same dimension as the dataset (2,2) \n",
    "noise = np.random.normal(mu, sigma, [6,]) \n",
    "print(noise)\n",
    "cs_noise_query = np.multiply(current_state_query, noise)\n",
    "print(cs_noise_query)"
   ]
  },
  {
   "cell_type": "code",
   "execution_count": 3,
   "metadata": {},
   "outputs": [
    {
     "data": {
      "text/plain": [
       "12.389631496575316"
      ]
     },
     "execution_count": 3,
     "metadata": {},
     "output_type": "execute_result"
    }
   ],
   "source": [
    "np.random.uniform(16)"
   ]
  },
  {
   "cell_type": "code",
   "execution_count": 713,
   "metadata": {},
   "outputs": [],
   "source": [
    "distances, indexs = model_nn.kneighbors([cs_noise_query])\n",
    "indexs = list(indexs.flatten())"
   ]
  },
  {
   "cell_type": "code",
   "execution_count": 714,
   "metadata": {},
   "outputs": [
    {
     "data": {
      "text/plain": [
       "(20, 6)"
      ]
     },
     "execution_count": 714,
     "metadata": {},
     "output_type": "execute_result"
    }
   ],
   "source": [
    "nearest_data = rest_embedding_cdf.iloc[indexs]\n",
    "nearest_array = np.asarray(nearest_data.values.tolist())\n",
    "nearest_array.shape"
   ]
  },
  {
   "cell_type": "code",
   "execution_count": 715,
   "metadata": {},
   "outputs": [],
   "source": [
    "data2 = set(nearest_data.index)"
   ]
  },
  {
   "cell_type": "code",
   "execution_count": 716,
   "metadata": {},
   "outputs": [
    {
     "data": {
      "text/plain": [
       "0"
      ]
     },
     "execution_count": 716,
     "metadata": {},
     "output_type": "execute_result"
    }
   ],
   "source": [
    "len(data1.intersection(data2))"
   ]
  },
  {
   "cell_type": "code",
   "execution_count": null,
   "metadata": {},
   "outputs": [],
   "source": [
    "conte_data = np.asarray(rest_embedding_cdf.values.tolist())"
   ]
  },
  {
   "cell_type": "code",
   "execution_count": 723,
   "metadata": {},
   "outputs": [
    {
     "name": "stdout",
     "output_type": "stream",
     "text": [
      "[-18.07863808  -3.19723445  -1.06228245   0.22788994   0.3717105\n",
      "  -0.39108654]\n",
      "[-18.06394583  -3.11758944  -0.92732875  -0.08241738   0.32043501\n",
      "  -0.14817674]\n",
      "[-18.05391961  -3.04432906  -0.88822835  -0.09067406   0.26657598\n",
      "  -0.28135769]\n",
      "[-18.05714486  -2.91904067  -1.06690327   0.28439846   0.27157567\n",
      "  -0.51643296]\n",
      "[-18.06477294  -3.11710521  -0.83653528   0.02740974   0.28127192\n",
      "   0.11803404]\n",
      "[-18.10469714  -3.16821829  -0.88211225   0.39504511   0.18580381\n",
      "  -0.19850255]\n",
      "[-18.13427143  -3.19614814  -0.97193845   0.15017298   0.34724535\n",
      "  -0.03560328]\n",
      "[-18.14304568  -3.22188488  -1.04742205   0.2702861    0.37950029\n",
      "  -0.31893099]\n",
      "[-18.13714747  -3.20650027  -0.97170797   0.15029686   0.34712452\n",
      "  -0.03533373]\n",
      "[-18.05671834  -3.07274087  -1.14100353   0.34623564   0.40570162\n",
      "  -0.67826163]\n",
      "[-18.13835004  -3.1253807   -1.02535518   0.04989859   0.33226987\n",
      "  -0.31796033]\n",
      "[-18.0517016   -3.0767132   -0.83336745  -0.26307867   0.54141739\n",
      "  -0.42276645]\n",
      "[-18.07663895  -3.1585216   -1.13913168   0.34725141   0.40470652\n",
      "  -0.67605085]\n",
      "[-18.13767068  -3.18178023  -1.06606102   0.09562295   0.21455935\n",
      "  -0.13788596]\n",
      "[-18.12030052  -3.20826014  -1.16226777   0.25606415   0.23640993\n",
      "  -0.43454681]\n",
      "[-18.08538668  -3.21525343  -1.13793672   0.34791102   0.40405534\n",
      "  -0.67461452]\n",
      "[-18.14510492  -3.15865924  -1.06130382   0.03249016   0.22964517\n",
      "  -0.24840776]\n",
      "[-18.0554126   -3.07363851  -1.23039365   0.41298788   0.25135343\n",
      "  -0.66089416]\n",
      "[-18.07025145  -3.12475751  -1.13609826   0.4859732    0.06747669\n",
      "   0.11116785]\n",
      "[-18.14350611  -3.14863714  -1.16858731   0.37379285   0.36691878\n",
      "  -0.50209335]\n"
     ]
    }
   ],
   "source": [
    "for each in conte_data[indexs]:\n",
    "    print(each)"
   ]
  },
  {
   "cell_type": "code",
   "execution_count": 4,
   "metadata": {},
   "outputs": [
    {
     "ename": "ModuleNotFoundError",
     "evalue": "No module named 'tensorflow_probability'",
     "output_type": "error",
     "traceback": [
      "\u001b[1;31m---------------------------------------------------------------------------\u001b[0m",
      "\u001b[1;31mModuleNotFoundError\u001b[0m                       Traceback (most recent call last)",
      "\u001b[1;32m<ipython-input-4-51a180639b3f>\u001b[0m in \u001b[0;36m<module>\u001b[1;34m()\u001b[0m\n\u001b[0;32m      1\u001b[0m \u001b[1;31m# Create a mixture of two Gaussians:\u001b[0m\u001b[1;33m\u001b[0m\u001b[1;33m\u001b[0m\u001b[0m\n\u001b[1;32m----> 2\u001b[1;33m \u001b[1;32mimport\u001b[0m \u001b[0mtensorflow_probability\u001b[0m \u001b[1;32mas\u001b[0m \u001b[0mtfp\u001b[0m\u001b[1;33m\u001b[0m\u001b[0m\n\u001b[0m\u001b[0;32m      3\u001b[0m \u001b[0mtfd\u001b[0m \u001b[1;33m=\u001b[0m \u001b[0mtfp\u001b[0m\u001b[1;33m.\u001b[0m\u001b[0mdistributions\u001b[0m\u001b[1;33m\u001b[0m\u001b[0m\n\u001b[0;32m      4\u001b[0m \u001b[1;33m\u001b[0m\u001b[0m\n\u001b[0;32m      5\u001b[0m \u001b[0mmix\u001b[0m \u001b[1;33m=\u001b[0m \u001b[1;36m0.3\u001b[0m\u001b[1;33m\u001b[0m\u001b[0m\n",
      "\u001b[1;31mModuleNotFoundError\u001b[0m: No module named 'tensorflow_probability'"
     ]
    }
   ],
   "source": [
    "# Create a mixture of two Gaussians:\n",
    "import tensorflow as tf\n",
    "# import tensorflow_probability as tfp\n",
    "tfd = tfp.distributions\n",
    "\n",
    "mix = 0.3\n",
    "bimix_gauss = tfd.Mixture(\n",
    "  cat=tfd.Categorical(probs=[mix, 1.-mix]),\n",
    "  components=[\n",
    "    tfd.Normal(loc=-1., scale=0.1),\n",
    "    tfd.Normal(loc=+1., scale=0.5),\n",
    "])\n",
    "\n",
    "# Plot the PDF.\n",
    "import matplotlib.pyplot as plt\n",
    "x = tf.linspace(-2., 3., int(1e4)).eval()\n",
    "plt.plot(x, bimix_gauss.prob(x).eval());"
   ]
  }
 ],
 "metadata": {
  "kernelspec": {
   "display_name": "Python 3",
   "language": "python",
   "name": "python3"
  },
  "language_info": {
   "codemirror_mode": {
    "name": "ipython",
    "version": 3
   },
   "file_extension": ".py",
   "mimetype": "text/x-python",
   "name": "python",
   "nbconvert_exporter": "python",
   "pygments_lexer": "ipython3",
   "version": "3.7.4"
  }
 },
 "nbformat": 4,
 "nbformat_minor": 2
}
