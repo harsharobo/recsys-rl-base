{
 "cells": [
  {
   "cell_type": "code",
   "execution_count": 1,
   "metadata": {},
   "outputs": [],
   "source": [
    "import numpy as np\n",
    "import pandas as pd\n",
    "import datetime\n",
    "import os\n",
    "from sklearn.model_selection import train_test_split\n",
    "# from tqdm import tqdm"
   ]
  },
  {
   "cell_type": "code",
   "execution_count": 3,
   "metadata": {},
   "outputs": [],
   "source": [
    "BASE_PATH = 'C:/Users/sjana/Learning/LJMU-masters/recommender_system/workspace/rest_procssed_data/'\n",
    "rest_emd_path = BASE_PATH+'rest_context_pca_feat.csv'\n",
    "dqn_train_data_path = BASE_PATH+'dqn_offline_train_validation.csv'\n",
    "simulation_data_path = BASE_PATH+'dqn_simulation_data.csv'\n",
    "\n",
    "SEED = 133610"
   ]
  },
  {
   "cell_type": "code",
   "execution_count": 21,
   "metadata": {},
   "outputs": [
    {
     "name": "stdout",
     "output_type": "stream",
     "text": [
      "(19590, 7)\n"
     ]
    },
    {
     "data": {
      "text/html": [
       "<div>\n",
       "<style scoped>\n",
       "    .dataframe tbody tr th:only-of-type {\n",
       "        vertical-align: middle;\n",
       "    }\n",
       "\n",
       "    .dataframe tbody tr th {\n",
       "        vertical-align: top;\n",
       "    }\n",
       "\n",
       "    .dataframe thead th {\n",
       "        text-align: right;\n",
       "    }\n",
       "</style>\n",
       "<table border=\"1\" class=\"dataframe\">\n",
       "  <thead>\n",
       "    <tr style=\"text-align: right;\">\n",
       "      <th></th>\n",
       "      <th>0</th>\n",
       "      <th>1</th>\n",
       "      <th>2</th>\n",
       "      <th>3</th>\n",
       "      <th>4</th>\n",
       "      <th>5</th>\n",
       "    </tr>\n",
       "    <tr>\n",
       "      <th>business_id</th>\n",
       "      <th></th>\n",
       "      <th></th>\n",
       "      <th></th>\n",
       "      <th></th>\n",
       "      <th></th>\n",
       "      <th></th>\n",
       "    </tr>\n",
       "  </thead>\n",
       "  <tbody>\n",
       "    <tr>\n",
       "      <th>QXAEGFB4oINsVuTFxEYKFQ</th>\n",
       "      <td>15.226513</td>\n",
       "      <td>1.540680</td>\n",
       "      <td>-2.398470</td>\n",
       "      <td>1.394465</td>\n",
       "      <td>0.389276</td>\n",
       "      <td>0.359321</td>\n",
       "    </tr>\n",
       "    <tr>\n",
       "      <th>1Dfx3zM-rW4n-31KeC8sJg</th>\n",
       "      <td>-18.362388</td>\n",
       "      <td>-2.902234</td>\n",
       "      <td>0.897339</td>\n",
       "      <td>-1.279854</td>\n",
       "      <td>-1.003267</td>\n",
       "      <td>0.525670</td>\n",
       "    </tr>\n",
       "    <tr>\n",
       "      <th>1RHY4K3BD22FK7Cfftn8Mg</th>\n",
       "      <td>14.163315</td>\n",
       "      <td>-1.337360</td>\n",
       "      <td>2.580457</td>\n",
       "      <td>0.243556</td>\n",
       "      <td>0.209694</td>\n",
       "      <td>0.093695</td>\n",
       "    </tr>\n",
       "    <tr>\n",
       "      <th>tstimHoMcYbkSC4eBA1wEg</th>\n",
       "      <td>-20.902280</td>\n",
       "      <td>0.200356</td>\n",
       "      <td>-1.117485</td>\n",
       "      <td>0.266005</td>\n",
       "      <td>0.375828</td>\n",
       "      <td>-0.212620</td>\n",
       "    </tr>\n",
       "    <tr>\n",
       "      <th>NDuUMJfrWk52RA-H-OtrpA</th>\n",
       "      <td>15.512376</td>\n",
       "      <td>1.656747</td>\n",
       "      <td>2.486269</td>\n",
       "      <td>0.953304</td>\n",
       "      <td>-0.016490</td>\n",
       "      <td>-0.089844</td>\n",
       "    </tr>\n",
       "  </tbody>\n",
       "</table>\n",
       "</div>"
      ],
      "text/plain": [
       "                                0         1         2         3         4  \\\n",
       "business_id                                                                 \n",
       "QXAEGFB4oINsVuTFxEYKFQ  15.226513  1.540680 -2.398470  1.394465  0.389276   \n",
       "1Dfx3zM-rW4n-31KeC8sJg -18.362388 -2.902234  0.897339 -1.279854 -1.003267   \n",
       "1RHY4K3BD22FK7Cfftn8Mg  14.163315 -1.337360  2.580457  0.243556  0.209694   \n",
       "tstimHoMcYbkSC4eBA1wEg -20.902280  0.200356 -1.117485  0.266005  0.375828   \n",
       "NDuUMJfrWk52RA-H-OtrpA  15.512376  1.656747  2.486269  0.953304 -0.016490   \n",
       "\n",
       "                               5  \n",
       "business_id                       \n",
       "QXAEGFB4oINsVuTFxEYKFQ  0.359321  \n",
       "1Dfx3zM-rW4n-31KeC8sJg  0.525670  \n",
       "1RHY4K3BD22FK7Cfftn8Mg  0.093695  \n",
       "tstimHoMcYbkSC4eBA1wEg -0.212620  \n",
       "NDuUMJfrWk52RA-H-OtrpA -0.089844  "
      ]
     },
     "execution_count": 21,
     "metadata": {},
     "output_type": "execute_result"
    }
   ],
   "source": [
    "rest_embedding_cdf = pd.read_csv(rest_emd_path)\n",
    "print(rest_embedding_cdf.shape)\n",
    "rest_embedding_cdf = rest_embedding_cdf.set_index('business_id')\n",
    "rest_embedding_cdf.head()"
   ]
  },
  {
   "cell_type": "code",
   "execution_count": 22,
   "metadata": {},
   "outputs": [
    {
     "data": {
      "text/plain": [
       "[15.226512675755195,\n",
       " 1.5406801706788598,\n",
       " -2.398469549279876,\n",
       " 1.394465007714395,\n",
       " 0.38927558224578096,\n",
       " 0.3593209300076965]"
      ]
     },
     "execution_count": 22,
     "metadata": {},
     "output_type": "execute_result"
    }
   ],
   "source": [
    "list(rest_embedding_cdf.loc['QXAEGFB4oINsVuTFxEYKFQ'])"
   ]
  },
  {
   "cell_type": "code",
   "execution_count": 5,
   "metadata": {},
   "outputs": [],
   "source": [
    "dqn_data_df = pd.read_csv(simulation_data_path)\n",
    "dqn_data_df['state'] = dqn_data_df.state. \\\n",
    "    apply(lambda x: np.asarray([each.split('|') for each in x.split(',')], dtype='float32'))\n",
    "dqn_data_df['action'] = dqn_data_df.action.apply(lambda x: np.asarray(x.split('|'), dtype='float32'))\n",
    "dqn_data_df['reward'] = dqn_data_df.reward.astype(float)"
   ]
  },
  {
   "cell_type": "code",
   "execution_count": 6,
   "metadata": {},
   "outputs": [
    {
     "data": {
      "text/html": [
       "<div>\n",
       "<style scoped>\n",
       "    .dataframe tbody tr th:only-of-type {\n",
       "        vertical-align: middle;\n",
       "    }\n",
       "\n",
       "    .dataframe tbody tr th {\n",
       "        vertical-align: top;\n",
       "    }\n",
       "\n",
       "    .dataframe thead th {\n",
       "        text-align: right;\n",
       "    }\n",
       "</style>\n",
       "<table border=\"1\" class=\"dataframe\">\n",
       "  <thead>\n",
       "    <tr style=\"text-align: right;\">\n",
       "      <th></th>\n",
       "      <th>user_id</th>\n",
       "      <th>state</th>\n",
       "      <th>action</th>\n",
       "      <th>reward</th>\n",
       "      <th>next_state</th>\n",
       "    </tr>\n",
       "  </thead>\n",
       "  <tbody>\n",
       "    <tr>\n",
       "      <td>0</td>\n",
       "      <td>---1lKK3aKOuomHnwAkAow</td>\n",
       "      <td>[[5.105682, 3.02343, 1.1998029, 2.6459227, 5.9...</td>\n",
       "      <td>[3.907493, 3.9790266, 0.85891354, 2.9955611, 6...</td>\n",
       "      <td>4.0</td>\n",
       "      <td>3.6259165|4.555624|1.7463031000000002|3.389558...</td>\n",
       "    </tr>\n",
       "    <tr>\n",
       "      <td>1</td>\n",
       "      <td>---1lKK3aKOuomHnwAkAow</td>\n",
       "      <td>[[3.6259165, 4.555624, 1.7463031, 3.3895586, 7...</td>\n",
       "      <td>[2.1000068, 5.064063, 1.3642833, 3.633889, 7.8...</td>\n",
       "      <td>4.0</td>\n",
       "      <td>5.943884400000001|2.053497|2.2759242000000004|...</td>\n",
       "    </tr>\n",
       "    <tr>\n",
       "      <td>2</td>\n",
       "      <td>---1lKK3aKOuomHnwAkAow</td>\n",
       "      <td>[[5.9438844, 2.053497, 2.2759242, 2.484219, 7....</td>\n",
       "      <td>[2.4830651, 5.704142, 0.17315382, 4.1524696, 6...</td>\n",
       "      <td>5.0</td>\n",
       "      <td>3.21387|4.1962743|2.4558017000000003|3.489384|...</td>\n",
       "    </tr>\n",
       "    <tr>\n",
       "      <td>3</td>\n",
       "      <td>---1lKK3aKOuomHnwAkAow</td>\n",
       "      <td>[[3.21387, 4.1962743, 2.4558017, 3.489384, 8.5...</td>\n",
       "      <td>[1.5584882, 4.7903037, 0.621162, 4.0098743, 6....</td>\n",
       "      <td>5.0</td>\n",
       "      <td>5.105682|3.02343|1.1998029|2.6459227000000003|...</td>\n",
       "    </tr>\n",
       "    <tr>\n",
       "      <td>4</td>\n",
       "      <td>---1lKK3aKOuomHnwAkAow</td>\n",
       "      <td>[[5.105682, 3.02343, 1.1998029, 2.6459227, 5.9...</td>\n",
       "      <td>[4.054323, 6.1892066, 0.6355051, 3.7389784, 7....</td>\n",
       "      <td>2.0</td>\n",
       "      <td>5.105682|3.02343|1.1998029|2.6459227000000003|...</td>\n",
       "    </tr>\n",
       "  </tbody>\n",
       "</table>\n",
       "</div>"
      ],
      "text/plain": [
       "                  user_id                                              state  \\\n",
       "0  ---1lKK3aKOuomHnwAkAow  [[5.105682, 3.02343, 1.1998029, 2.6459227, 5.9...   \n",
       "1  ---1lKK3aKOuomHnwAkAow  [[3.6259165, 4.555624, 1.7463031, 3.3895586, 7...   \n",
       "2  ---1lKK3aKOuomHnwAkAow  [[5.9438844, 2.053497, 2.2759242, 2.484219, 7....   \n",
       "3  ---1lKK3aKOuomHnwAkAow  [[3.21387, 4.1962743, 2.4558017, 3.489384, 8.5...   \n",
       "4  ---1lKK3aKOuomHnwAkAow  [[5.105682, 3.02343, 1.1998029, 2.6459227, 5.9...   \n",
       "\n",
       "                                              action  reward  \\\n",
       "0  [3.907493, 3.9790266, 0.85891354, 2.9955611, 6...     4.0   \n",
       "1  [2.1000068, 5.064063, 1.3642833, 3.633889, 7.8...     4.0   \n",
       "2  [2.4830651, 5.704142, 0.17315382, 4.1524696, 6...     5.0   \n",
       "3  [1.5584882, 4.7903037, 0.621162, 4.0098743, 6....     5.0   \n",
       "4  [4.054323, 6.1892066, 0.6355051, 3.7389784, 7....     2.0   \n",
       "\n",
       "                                          next_state  \n",
       "0  3.6259165|4.555624|1.7463031000000002|3.389558...  \n",
       "1  5.943884400000001|2.053497|2.2759242000000004|...  \n",
       "2  3.21387|4.1962743|2.4558017000000003|3.489384|...  \n",
       "3  5.105682|3.02343|1.1998029|2.6459227000000003|...  \n",
       "4  5.105682|3.02343|1.1998029|2.6459227000000003|...  "
      ]
     },
     "execution_count": 6,
     "metadata": {},
     "output_type": "execute_result"
    }
   ],
   "source": [
    "dqn_data_df.head()"
   ]
  },
  {
   "cell_type": "markdown",
   "metadata": {},
   "source": [
    "### Split the data into training and testing"
   ]
  },
  {
   "cell_type": "code",
   "execution_count": 11,
   "metadata": {},
   "outputs": [],
   "source": [
    "X = dqn_data_df[['state','action']]\n",
    "Y = dqn_data_df.reward"
   ]
  },
  {
   "cell_type": "code",
   "execution_count": 15,
   "metadata": {},
   "outputs": [],
   "source": [
    "TEST_SIZE = 0.15\n",
    "X_train, X_test, Y_train, Y_test = train_test_split(X, Y, test_size=TEST_SIZE, random_state=SEED)"
   ]
  },
  {
   "cell_type": "code",
   "execution_count": 16,
   "metadata": {},
   "outputs": [],
   "source": [
    "VALID_SIZE = 0.15\n",
    "X_train, X_validation, Y_train, Y_validation = train_test_split(X_train, Y_train, test_size=VALID_SIZE, random_state=SEED)"
   ]
  },
  {
   "cell_type": "code",
   "execution_count": 17,
   "metadata": {},
   "outputs": [
    {
     "name": "stdout",
     "output_type": "stream",
     "text": [
      "TRAINING DATA\n",
      "Shape of input sequences: (175335, 2)\n",
      "Shape of output sequences: (175335,)\n",
      "--------------------------------------------------\n",
      "VALIDATION DATA\n",
      "Shape of input sequences: (30942, 2)\n",
      "Shape of output sequences: (30942,)\n",
      "--------------------------------------------------\n",
      "TESTING DATA\n",
      "Shape of input sequences: (36402, 2)\n",
      "Shape of output sequences: (36402,)\n"
     ]
    }
   ],
   "source": [
    "# print number of samples in each set\n",
    "print(\"TRAINING DATA\")\n",
    "print('Shape of input sequences: {}'.format(X_train.shape))\n",
    "print('Shape of output sequences: {}'.format(Y_train.shape))\n",
    "print(\"-\"*50)\n",
    "print(\"VALIDATION DATA\")\n",
    "print('Shape of input sequences: {}'.format(X_validation.shape))\n",
    "print('Shape of output sequences: {}'.format(Y_validation.shape))\n",
    "print(\"-\"*50)\n",
    "print(\"TESTING DATA\")\n",
    "print('Shape of input sequences: {}'.format(X_test.shape))\n",
    "print('Shape of output sequences: {}'.format(Y_test.shape))"
   ]
  },
  {
   "cell_type": "code",
   "execution_count": 18,
   "metadata": {},
   "outputs": [],
   "source": [
    "STATE_WINDOW=5\n",
    "FEATURE_SPACE=6\n",
    "\n",
    "BATCH_SIZE=128"
   ]
  },
  {
   "cell_type": "markdown",
   "metadata": {},
   "source": [
    "## Create Generator function for traing and validation data"
   ]
  },
  {
   "cell_type": "code",
   "execution_count": 37,
   "metadata": {},
   "outputs": [],
   "source": [
    "def generateStateActionMatrix(x_data, y_data, batch_size):\n",
    "    while True:\n",
    "        data_size = x_data.shape[0]\n",
    "        \n",
    "        for index in range(0, data_size, batch_size):\n",
    "            #create the x_return with shape (batch_size, )\n",
    "            x_temp = x_data[index:index+batch_size]\n",
    "            x_state_input = np.zeros((x_temp.shape[0],STATE_WINDOW,FEATURE_SPACE))\n",
    "            x_action_input = np.zeros((x_temp.shape[0],FEATURE_SPACE))\n",
    "#             for i,each_row in enumerate(x_temp.iterrows()):\n",
    "#                 state_array = list(each_row[1]['state'].split(',')) \n",
    "#                 state_data = np.array([rest_embedding_cdf.loc[bid] for bid in state_array])\n",
    "#                 x_state_input[i,:,:] = state_data\n",
    "                \n",
    "#                 action_data = np.array(rest_embedding_cdf.loc[str(each_row[1]['action'])]) \n",
    "#                 x_action_input[i,:] = action_data\n",
    "            \n",
    "            y_temp = y_data[index:index+batch_size]\n",
    "            y_input = np.array([float(bid) for bid in list(y_temp)])\n",
    "#             print('batch size {}, x_state_input shape {}, x_action_input shape {} and y_input shape {} '\\\n",
    "#                   .format(batch_size, x_state_input.shape, x_action_input.shape, y_input.shape))\n",
    "            yield [x_state_input, x_action_input], y_input       "
   ]
  },
  {
   "cell_type": "code",
   "execution_count": 38,
   "metadata": {},
   "outputs": [
    {
     "name": "stdout",
     "output_type": "stream",
     "text": [
      "shapes of state (5, 5, 6) - action (5, 6) - reward (5,)\n",
      "shapes of state (5, 5, 6) - action (5, 6) - reward (5,)\n",
      "shapes of state (5, 5, 6) - action (5, 6) - reward (5,)\n"
     ]
    }
   ],
   "source": [
    "unit_test_x = X_train[:12]\n",
    "unit_test_y = Y_train[:12]\n",
    "\n",
    "for _ in range(3):\n",
    "    gen_func = generateStateActionMatrix(unit_test_x,unit_test_y,5)\n",
    "    x_input, y_rating = next(gen_func)\n",
    "    print('shapes of state {} - action {} - reward {}'.format(x_input[0].shape, x_input[1].shape, y_rating.shape))"
   ]
  },
  {
   "cell_type": "markdown",
   "metadata": {},
   "source": [
    "## Build the DQN model Architecture"
   ]
  },
  {
   "cell_type": "code",
   "execution_count": 39,
   "metadata": {},
   "outputs": [
    {
     "name": "stdout",
     "output_type": "stream",
     "text": [
      "2.2.4\n"
     ]
    }
   ],
   "source": [
    "import warnings\n",
    "warnings.filterwarnings('ignore')\n",
    "import keras\n",
    "print(keras.__version__)"
   ]
  },
  {
   "cell_type": "code",
   "execution_count": 40,
   "metadata": {},
   "outputs": [],
   "source": [
    "import tensorflow as tf\n",
    "from keras.models import Model\n",
    "from keras.layers import Input, GRU, SimpleRNN, Concatenate, Dense, Flatten,BatchNormalization, Dropout, TimeDistributed, Lambda\n",
    "from keras.regularizers import l2\n",
    "from keras.optimizers import SGD, Adam\n",
    "from keras.callbacks import ModelCheckpoint\n",
    "import keras.backend as K"
   ]
  },
  {
   "cell_type": "code",
   "execution_count": 51,
   "metadata": {},
   "outputs": [
    {
     "name": "stdout",
     "output_type": "stream",
     "text": [
      "__________________________________________________________________________________________________\n",
      "Layer (type)                    Output Shape         Param #     Connected to                     \n",
      "==================================================================================================\n",
      "state_input (InputLayer)        (None, 5, 6)         0                                            \n",
      "__________________________________________________________________________________________________\n",
      "state_gru (GRU)                 (None, 5, 32)        3744        state_input[0][0]                \n",
      "__________________________________________________________________________________________________\n",
      "state_dense (Dense)             (None, 5, 32)        1056        state_gru[0][0]                  \n",
      "__________________________________________________________________________________________________\n",
      "action_input (InputLayer)       (None, 6)            0                                            \n",
      "__________________________________________________________________________________________________\n",
      "state_flatten (Flatten)         (None, 160)          0           state_dense[0][0]                \n",
      "__________________________________________________________________________________________________\n",
      "action_dense (Dense)            (None, 16)           112         action_input[0][0]               \n",
      "__________________________________________________________________________________________________\n",
      "concatenate_6 (Concatenate)     (None, 176)          0           state_flatten[0][0]              \n",
      "                                                                 action_dense[0][0]               \n",
      "__________________________________________________________________________________________________\n",
      "dense_11 (Dense)                (None, 32)           5664        concatenate_6[0][0]              \n",
      "__________________________________________________________________________________________________\n",
      "dense_12 (Dense)                (None, 1)            33          dense_11[0][0]                   \n",
      "==================================================================================================\n",
      "Total params: 10,609\n",
      "Trainable params: 10,609\n",
      "Non-trainable params: 0\n",
      "__________________________________________________________________________________________________\n",
      "None\n"
     ]
    }
   ],
   "source": [
    "# Critic model for the ddpg\n",
    "def create_dqn_model_arch1():\n",
    "    state_input = Input(shape=(STATE_WINDOW,FEATURE_SPACE,),name='state_input')\n",
    "    state_gru = GRU(32,return_sequences=True, kernel_initializer='random_uniform', name='state_gru')(state_input)\n",
    "    state_dense = Dense(32, activation='relu', kernel_initializer='random_uniform', name='state_dense')(state_gru)\n",
    "    state_flatten = Flatten(name='state_flatten')(state_dense)\n",
    "    \n",
    "    action_input = Input(shape=(FEATURE_SPACE,),name='action_input')\n",
    "    action_dense = Dense(16, activation='relu', kernel_initializer='random_uniform', name='action_dense')(action_input)\n",
    "    \n",
    "    dense_conc = Concatenate()([state_flatten, action_dense])\n",
    "    hidden_layer = Dense(32, activation='relu',kernel_initializer='random_uniform')(dense_conc)\n",
    "#     dp = BatchNormalization()(hidden_layer)\n",
    "#     drop_out = Dropout(0.25)(hidden_layer)\n",
    "    out_layer = Dense(1, activation='linear', kernel_initializer='random_uniform')(hidden_layer)\n",
    "    \n",
    "    model = Model(inputs=[state_input, action_input], outputs=out_layer)\n",
    "    model.compile(\n",
    "      loss='mse',\n",
    "      optimizer=Adam(lr=0.02),\n",
    "#       optimizer=SGD(lr=0.01, momentum=0.9),\n",
    "      metrics=['mse'],\n",
    "    )\n",
    "    return model\n",
    "\n",
    "action_grads_critic = K.function([dqn_model.input[0], dqn_model.input[1]], \n",
    "                                 K.gradients(dqn_model.output, [dqn_model.input[1]]))"
   ]
  },
  {
   "cell_type": "code",
   "execution_count": 65,
   "metadata": {},
   "outputs": [],
   "source": [
    "def create_dqn_model_arch2():\n",
    "    state_input = Input(shape=(STATE_WINDOW,FEATURE_SPACE,),name='state_input')\n",
    "#     state_gru = SimpleRNN(32,return_sequences=False, kernel_initializer='random_uniform', name='state_gru')(state_input)\n",
    "    state_dense = Flatten(name='state_flatten')(state_input)\n",
    "    \n",
    "    action_input = Input(shape=(FEATURE_SPACE,),name='action_input')\n",
    "#     action_dense = Dense(32, activation='relu', kernel_initializer='random_uniform', name='action_dense')(action_input)\n",
    "    \n",
    "    dense_conc = Concatenate()([state_dense,action_input])\n",
    "    hidden_layer1 = Dense(64, activation='relu')(dense_conc)\n",
    "    drop_out_1 = Dropout(0.25)(hidden_layer1)\n",
    "    hidden_layer2 = Dense(32, activation='relu')(drop_out_1)\n",
    "    drop_out_2 = Dropout(0.25)(hidden_layer2)\n",
    "    out_layer = Dense(1, activation='linear')(drop_out_2)\n",
    "    \n",
    "    model = Model(inputs=[state_input, action_input], outputs=out_layer)\n",
    "    model.compile(\n",
    "      loss='mse',\n",
    "#       optimizer=Adam(lr=0.01),\n",
    "      optimizer=SGD(lr=0.01, momentum=0.9),\n",
    "      metrics=['mse'],\n",
    "    )\n",
    "    return model"
   ]
  },
  {
   "cell_type": "code",
   "execution_count": 60,
   "metadata": {},
   "outputs": [
    {
     "name": "stdout",
     "output_type": "stream",
     "text": [
      "_________________________________________________________________\n",
      "Layer (type)                 Output Shape              Param #   \n",
      "=================================================================\n",
      "state_input (InputLayer)     (None, 5, 6)              0         \n",
      "_________________________________________________________________\n",
      "state_gru (GRU)              (None, 5, 32)             3744      \n",
      "_________________________________________________________________\n",
      "state_dense (Dense)          (None, 5, 32)             1056      \n",
      "_________________________________________________________________\n",
      "state_flatten (Flatten)      (None, 160)               0         \n",
      "_________________________________________________________________\n",
      "state_dense2 (Dense)         (None, 6)                 966       \n",
      "_________________________________________________________________\n",
      "lambda_7 (Lambda)            (None, 6)                 0         \n",
      "=================================================================\n",
      "Total params: 5,766\n",
      "Trainable params: 5,766\n",
      "Non-trainable params: 0\n",
      "_________________________________________________________________\n"
     ]
    }
   ],
   "source": [
    "def actor_optimizer():\n",
    "    action_gdts = K.placeholder(shape=(None, FEATURE_SPACE))\n",
    "    params_grad = tf.gradients(actor.output, actor.trainable_weights, -action_gdts)\n",
    "    grads = zip(params_grad, actor.trainable_weights)\n",
    "#     print(list(grads))\n",
    "    return K.function([actor.input, action_gdts], [tf.train.AdamOptimizer(0.01).apply_gradients(grads)])\n",
    "\n",
    "def create_actor():\n",
    "    state_input = Input(shape=(STATE_WINDOW,FEATURE_SPACE,),name='state_input')\n",
    "    state_gru = GRU(32,return_sequences=True, kernel_initializer='random_uniform', name='state_gru')(state_input)\n",
    "    state_dense = Dense(32, activation='relu', kernel_initializer='random_uniform', name='state_dense')(state_gru)\n",
    "    state_flatten = Flatten(name='state_flatten')(state_dense)\n",
    "    state_dense2 = Dense(FEATURE_SPACE, activation='tanh', kernel_initializer='random_uniform', name='state_dense2')(state_flatten)\n",
    "    out = Lambda(lambda i: i * FEATURE_SPACE)(state_dense2)\n",
    "    model = Model(inputs=state_input, outputs=out)\n",
    "    return model\n",
    "    \n",
    "actor = create_actor()\n",
    "actor_optimizer = actor_optimizer()\n",
    "actor.summary()"
   ]
  },
  {
   "cell_type": "code",
   "execution_count": 66,
   "metadata": {},
   "outputs": [
    {
     "name": "stdout",
     "output_type": "stream",
     "text": [
      "__________________________________________________________________________________________________\n",
      "Layer (type)                    Output Shape         Param #     Connected to                     \n",
      "==================================================================================================\n",
      "state_input (InputLayer)        (None, 5, 6)         0                                            \n",
      "__________________________________________________________________________________________________\n",
      "state_flatten (Flatten)         (None, 30)           0           state_input[0][0]                \n",
      "__________________________________________________________________________________________________\n",
      "action_input (InputLayer)       (None, 6)            0                                            \n",
      "__________________________________________________________________________________________________\n",
      "concatenate_8 (Concatenate)     (None, 36)           0           state_flatten[0][0]              \n",
      "                                                                 action_input[0][0]               \n",
      "__________________________________________________________________________________________________\n",
      "dense_16 (Dense)                (None, 64)           2368        concatenate_8[0][0]              \n",
      "__________________________________________________________________________________________________\n",
      "dropout_4 (Dropout)             (None, 64)           0           dense_16[0][0]                   \n",
      "__________________________________________________________________________________________________\n",
      "dense_17 (Dense)                (None, 32)           2080        dropout_4[0][0]                  \n",
      "__________________________________________________________________________________________________\n",
      "dropout_5 (Dropout)             (None, 32)           0           dense_17[0][0]                   \n",
      "__________________________________________________________________________________________________\n",
      "dense_18 (Dense)                (None, 1)            33          dropout_5[0][0]                  \n",
      "==================================================================================================\n",
      "Total params: 4,481\n",
      "Trainable params: 4,481\n",
      "Non-trainable params: 0\n",
      "__________________________________________________________________________________________________\n",
      "None\n"
     ]
    }
   ],
   "source": [
    "# dqn_model = create_dqn_model_arch1()\n",
    "dqn_model = create_dqn_model_arch2()\n",
    "print(dqn_model.summary())"
   ]
  },
  {
   "cell_type": "markdown",
   "metadata": {},
   "source": [
    "## Fit the model"
   ]
  },
  {
   "cell_type": "code",
   "execution_count": 67,
   "metadata": {},
   "outputs": [],
   "source": [
    "# X_train, X_validation, Y_train, Y_validation\n",
    "train_generator = generateStateActionMatrix(X_train, Y_train, BATCH_SIZE)\n",
    "val_generator = generateStateActionMatrix(X_validation, Y_validation, BATCH_SIZE)"
   ]
  },
  {
   "cell_type": "code",
   "execution_count": 23,
   "metadata": {
    "scrolled": true
   },
   "outputs": [],
   "source": [
    "# for j, each in enumerate(range(steps_per_epoch)):\n",
    "#     d1, d2 = next(train_generator)\n",
    "#     print('{} - state {} - action {} - reward {}'.format(j, d1[0].shape, d1[1].shape, d2.shape))"
   ]
  },
  {
   "cell_type": "code",
   "execution_count": 68,
   "metadata": {},
   "outputs": [],
   "source": [
    "curr_dt_time = datetime.datetime.now()\n",
    "model_name = 'model_init' + '_' + str(curr_dt_time).replace(' ','').replace(':','_') + '/'\n",
    "    \n",
    "if not os.path.exists(model_name):\n",
    "    os.mkdir(model_name)\n",
    "        \n",
    "filepath = model_name + 'model-{epoch:05d}-{mean_squared_error:.5f}-{val_mean_squared_error:.5f}.h5'\n",
    "checkpoint = ModelCheckpoint(filepath, monitor='val_loss', verbose=1, save_best_only=False, save_weights_only=False, mode='auto', period=1)\n",
    "\n",
    "# LR = ReduceLROnPlateau(monitor='val_loss', factor=0.2,patience=5, min_lr=0.001)# write the REducelronplateau code here\n",
    "callbacks_list = [checkpoint]"
   ]
  },
  {
   "cell_type": "code",
   "execution_count": 69,
   "metadata": {},
   "outputs": [
    {
     "name": "stdout",
     "output_type": "stream",
     "text": [
      "# training sequences = 175335\n",
      "# validation sequences = 30942\n",
      "# epochs = 15\n",
      "1370\n",
      "242\n"
     ]
    }
   ],
   "source": [
    "num_train_sequences = X_train.shape[0]\n",
    "print('# training sequences =', num_train_sequences)\n",
    "num_val_sequences = X_validation.shape[0]\n",
    "print('# validation sequences =', num_val_sequences)\n",
    "num_epochs = 15 # choose the number of epochs\n",
    "print ('# epochs =', num_epochs)\n",
    "\n",
    "if (num_train_sequences%BATCH_SIZE) == 0:\n",
    "    steps_per_epoch = int(num_train_sequences/BATCH_SIZE)\n",
    "else:\n",
    "    steps_per_epoch = (num_train_sequences//BATCH_SIZE) + 1\n",
    "\n",
    "if (num_val_sequences%BATCH_SIZE) == 0:\n",
    "    validation_steps = int(num_val_sequences/BATCH_SIZE)\n",
    "else:\n",
    "    validation_steps = (num_val_sequences//BATCH_SIZE) + 1\n",
    "    \n",
    "print(steps_per_epoch)\n",
    "print(validation_steps)"
   ]
  },
  {
   "cell_type": "code",
   "execution_count": 70,
   "metadata": {},
   "outputs": [
    {
     "name": "stdout",
     "output_type": "stream",
     "text": [
      "Epoch 1/15\n",
      "1370/1370 [==============================] - 7s 5ms/step - loss: 1.4192 - mean_squared_error: 1.4192 - val_loss: 1.3667 - val_mean_squared_error: 1.3667\n",
      "\n",
      "Epoch 00001: saving model to model_init_2020-01-3120_38_47.063610/model-00001-1.41925-1.36672.h5\n",
      "Epoch 2/15\n",
      "1370/1370 [==============================] - 5s 4ms/step - loss: 1.3455 - mean_squared_error: 1.3455 - val_loss: 1.3667 - val_mean_squared_error: 1.3667\n",
      "\n",
      "Epoch 00002: saving model to model_init_2020-01-3120_38_47.063610/model-00002-1.34549-1.36672.h5\n",
      "Epoch 3/15\n",
      "1370/1370 [==============================] - 5s 4ms/step - loss: 1.3455 - mean_squared_error: 1.3455 - val_loss: 1.3667 - val_mean_squared_error: 1.3667\n",
      "\n",
      "Epoch 00003: saving model to model_init_2020-01-3120_38_47.063610/model-00003-1.34549-1.36672.h5\n",
      "Epoch 4/15\n",
      "1370/1370 [==============================] - 7s 5ms/step - loss: 1.3455 - mean_squared_error: 1.3455 - val_loss: 1.3667 - val_mean_squared_error: 1.3667\n",
      "\n",
      "Epoch 00004: saving model to model_init_2020-01-3120_38_47.063610/model-00004-1.34549-1.36672.h5\n",
      "Epoch 5/15\n",
      "1370/1370 [==============================] - 7s 5ms/step - loss: 1.3455 - mean_squared_error: 1.3455 - val_loss: 1.3667 - val_mean_squared_error: 1.3667\n",
      "\n",
      "Epoch 00005: saving model to model_init_2020-01-3120_38_47.063610/model-00005-1.34549-1.36672.h5\n",
      "Epoch 6/15\n",
      "1370/1370 [==============================] - 9s 7ms/step - loss: 1.3455 - mean_squared_error: 1.3455 - val_loss: 1.3667 - val_mean_squared_error: 1.3667\n",
      "\n",
      "Epoch 00006: saving model to model_init_2020-01-3120_38_47.063610/model-00006-1.34549-1.36672.h5\n",
      "Epoch 7/15\n",
      "1370/1370 [==============================] - 6s 5ms/step - loss: 1.3455 - mean_squared_error: 1.3455 - val_loss: 1.3667 - val_mean_squared_error: 1.3667\n",
      "\n",
      "Epoch 00007: saving model to model_init_2020-01-3120_38_47.063610/model-00007-1.34549-1.36672.h5\n",
      "Epoch 8/15\n",
      "1370/1370 [==============================] - 6s 4ms/step - loss: 1.3455 - mean_squared_error: 1.3455 - val_loss: 1.3667 - val_mean_squared_error: 1.3667\n",
      "\n",
      "Epoch 00008: saving model to model_init_2020-01-3120_38_47.063610/model-00008-1.34549-1.36672.h5\n",
      "Epoch 9/15\n",
      "1370/1370 [==============================] - 6s 4ms/step - loss: 1.3455 - mean_squared_error: 1.3455 - val_loss: 1.3667 - val_mean_squared_error: 1.3667\n",
      "\n",
      "Epoch 00009: saving model to model_init_2020-01-3120_38_47.063610/model-00009-1.34549-1.36672.h5\n",
      "Epoch 10/15\n",
      "1370/1370 [==============================] - 5s 4ms/step - loss: 1.3455 - mean_squared_error: 1.3455 - val_loss: 1.3667 - val_mean_squared_error: 1.3667\n",
      "\n",
      "Epoch 00010: saving model to model_init_2020-01-3120_38_47.063610/model-00010-1.34549-1.36672.h5\n",
      "Epoch 11/15\n",
      "1370/1370 [==============================] - 6s 4ms/step - loss: 1.3455 - mean_squared_error: 1.3455 - val_loss: 1.3667 - val_mean_squared_error: 1.3667\n",
      "\n",
      "Epoch 00011: saving model to model_init_2020-01-3120_38_47.063610/model-00011-1.34549-1.36672.h5\n",
      "Epoch 12/15\n",
      "1370/1370 [==============================] - 6s 4ms/step - loss: 1.3455 - mean_squared_error: 1.3455 - val_loss: 1.3667 - val_mean_squared_error: 1.3667\n",
      "\n",
      "Epoch 00012: saving model to model_init_2020-01-3120_38_47.063610/model-00012-1.34549-1.36672.h5\n",
      "Epoch 13/15\n",
      "1370/1370 [==============================] - 5s 4ms/step - loss: 1.3455 - mean_squared_error: 1.3455 - val_loss: 1.3667 - val_mean_squared_error: 1.3667\n",
      "\n",
      "Epoch 00013: saving model to model_init_2020-01-3120_38_47.063610/model-00013-1.34549-1.36672.h5\n",
      "Epoch 14/15\n",
      "1370/1370 [==============================] - 5s 4ms/step - loss: 1.3455 - mean_squared_error: 1.3455 - val_loss: 1.3667 - val_mean_squared_error: 1.3667\n",
      "\n",
      "Epoch 00014: saving model to model_init_2020-01-3120_38_47.063610/model-00014-1.34549-1.36672.h5\n",
      "Epoch 15/15\n",
      "1370/1370 [==============================] - 5s 4ms/step - loss: 1.3455 - mean_squared_error: 1.3455 - val_loss: 1.3667 - val_mean_squared_error: 1.3667\n",
      "\n",
      "Epoch 00015: saving model to model_init_2020-01-3120_38_47.063610/model-00015-1.34549-1.36672.h5\n"
     ]
    },
    {
     "data": {
      "text/plain": [
       "<keras.callbacks.History at 0x25fa1c9c1c8>"
      ]
     },
     "execution_count": 70,
     "metadata": {},
     "output_type": "execute_result"
    }
   ],
   "source": [
    "dqn_model.fit_generator(train_generator, steps_per_epoch=steps_per_epoch, epochs=num_epochs, verbose=1, \n",
    "                    callbacks=callbacks_list, validation_data=val_generator, \n",
    "                    validation_steps=validation_steps, class_weight=None, workers=1, initial_epoch=0)"
   ]
  },
  {
   "cell_type": "markdown",
   "metadata": {},
   "source": [
    "## Perform Testing using RL"
   ]
  },
  {
   "cell_type": "code",
   "execution_count": 71,
   "metadata": {},
   "outputs": [
    {
     "name": "stdout",
     "output_type": "stream",
     "text": [
      "# testing sequences = 36402\n"
     ]
    }
   ],
   "source": [
    "test_generator = generateStateActionMatrix(X_test, Y_test, BATCH_SIZE)\n",
    "num_test_sequences = X_test.shape[0]\n",
    "print('# testing sequences =', num_test_sequences)\n",
    "\n",
    "if (num_test_sequences%BATCH_SIZE) == 0:\n",
    "    testing_steps = int(num_test_sequences/BATCH_SIZE)\n",
    "else:\n",
    "    testing_steps = (num_test_sequences//BATCH_SIZE) + 1"
   ]
  },
  {
   "cell_type": "code",
   "execution_count": 72,
   "metadata": {
    "scrolled": true
   },
   "outputs": [
    {
     "name": "stdout",
     "output_type": "stream",
     "text": [
      "average loss -- 1.3536713173297938\n"
     ]
    }
   ],
   "source": [
    "test_loss = list()\n",
    "test_acc = list()\n",
    "for n in range(num_test_sequences):\n",
    "    input_data, y_true = next(test_generator)\n",
    "    score = dqn_model.evaluate(input_data, y_true, verbose=0)\n",
    "#     print('test loss {} and test accurancy {}'.format(score[0], score[1]))\n",
    "    test_loss.append(score[0])\n",
    "    test_acc.append(score[1])\n",
    "    \n",
    "print('average loss --', np.mean(test_loss))\n",
    "# print('average accuracy --', np.mean(test_acc))"
   ]
  }
 ],
 "metadata": {
  "kernelspec": {
   "display_name": "Python 3",
   "language": "python",
   "name": "python3"
  },
  "language_info": {
   "codemirror_mode": {
    "name": "ipython",
    "version": 3
   },
   "file_extension": ".py",
   "mimetype": "text/x-python",
   "name": "python",
   "nbconvert_exporter": "python",
   "pygments_lexer": "ipython3",
   "version": "3.7.4"
  }
 },
 "nbformat": 4,
 "nbformat_minor": 2
}
